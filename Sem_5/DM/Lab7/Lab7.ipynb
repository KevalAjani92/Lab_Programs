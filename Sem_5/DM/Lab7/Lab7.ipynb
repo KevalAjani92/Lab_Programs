{
 "cells": [
  {
   "cell_type": "markdown",
   "id": "02b33ee5",
   "metadata": {},
   "source": [
    "<a href='https://www.darshan.ac.in/'> <img src='https://www.darshan.ac.in/Content/media/DU_Logo.svg' width=\"250\" height=\"300\"/></a>\n",
    "<pre>\n",
    "<center><b><h1>Data Mining</b></center>\n",
    "<center><b><h1>Lab - 7 (Part 2)</b></center>    \n",
    "<pre>"
   ]
  },
  {
   "cell_type": "markdown",
   "id": "08f0806f",
   "metadata": {},
   "source": [
    "### Step 1: Load the Dataset\n",
    "Load the `Tdata.csv` file and display the first few rows."
   ]
  },
  {
   "cell_type": "code",
   "execution_count": 12,
   "id": "dd419a98",
   "metadata": {},
   "outputs": [
    {
     "data": {
      "text/html": [
       "<div>\n",
       "<style scoped>\n",
       "    .dataframe tbody tr th:only-of-type {\n",
       "        vertical-align: middle;\n",
       "    }\n",
       "\n",
       "    .dataframe tbody tr th {\n",
       "        vertical-align: top;\n",
       "    }\n",
       "\n",
       "    .dataframe thead th {\n",
       "        text-align: right;\n",
       "    }\n",
       "</style>\n",
       "<table border=\"1\" class=\"dataframe\">\n",
       "  <thead>\n",
       "    <tr style=\"text-align: right;\">\n",
       "      <th></th>\n",
       "      <th>Transaction</th>\n",
       "      <th>bread</th>\n",
       "      <th>butter</th>\n",
       "      <th>coffee</th>\n",
       "      <th>eggs</th>\n",
       "      <th>jam</th>\n",
       "      <th>milk</th>\n",
       "    </tr>\n",
       "  </thead>\n",
       "  <tbody>\n",
       "    <tr>\n",
       "      <th>0</th>\n",
       "      <td>T1</td>\n",
       "      <td>1</td>\n",
       "      <td>1</td>\n",
       "      <td>0</td>\n",
       "      <td>0</td>\n",
       "      <td>0</td>\n",
       "      <td>1</td>\n",
       "    </tr>\n",
       "    <tr>\n",
       "      <th>1</th>\n",
       "      <td>T2</td>\n",
       "      <td>1</td>\n",
       "      <td>1</td>\n",
       "      <td>0</td>\n",
       "      <td>0</td>\n",
       "      <td>1</td>\n",
       "      <td>0</td>\n",
       "    </tr>\n",
       "    <tr>\n",
       "      <th>2</th>\n",
       "      <td>T3</td>\n",
       "      <td>1</td>\n",
       "      <td>0</td>\n",
       "      <td>0</td>\n",
       "      <td>1</td>\n",
       "      <td>0</td>\n",
       "      <td>1</td>\n",
       "    </tr>\n",
       "    <tr>\n",
       "      <th>3</th>\n",
       "      <td>T4</td>\n",
       "      <td>1</td>\n",
       "      <td>1</td>\n",
       "      <td>0</td>\n",
       "      <td>0</td>\n",
       "      <td>0</td>\n",
       "      <td>1</td>\n",
       "    </tr>\n",
       "    <tr>\n",
       "      <th>4</th>\n",
       "      <td>T5</td>\n",
       "      <td>1</td>\n",
       "      <td>0</td>\n",
       "      <td>1</td>\n",
       "      <td>0</td>\n",
       "      <td>0</td>\n",
       "      <td>0</td>\n",
       "    </tr>\n",
       "    <tr>\n",
       "      <th>5</th>\n",
       "      <td>T6</td>\n",
       "      <td>0</td>\n",
       "      <td>0</td>\n",
       "      <td>1</td>\n",
       "      <td>1</td>\n",
       "      <td>1</td>\n",
       "      <td>0</td>\n",
       "    </tr>\n",
       "  </tbody>\n",
       "</table>\n",
       "</div>"
      ],
      "text/plain": [
       "  Transaction  bread  butter  coffee  eggs  jam  milk\n",
       "0          T1      1       1       0     0    0     1\n",
       "1          T2      1       1       0     0    1     0\n",
       "2          T3      1       0       0     1    0     1\n",
       "3          T4      1       1       0     0    0     1\n",
       "4          T5      1       0       1     0    0     0\n",
       "5          T6      0       0       1     1    1     0"
      ]
     },
     "execution_count": 12,
     "metadata": {},
     "output_type": "execute_result"
    }
   ],
   "source": [
    "import pandas as pd\n",
    "import numpy as np\n",
    "from itertools import combinations\n",
    "\n",
    "df = pd.read_csv(\"Tdata.csv\")\n",
    "df"
   ]
  },
  {
   "cell_type": "markdown",
   "id": "3532ee71",
   "metadata": {},
   "source": [
    "### Step 2: Drop the 'Transaction' Column\n",
    "We're only interested in the items (not the transaction IDs)."
   ]
  },
  {
   "cell_type": "code",
   "execution_count": 18,
   "id": "e2575fe6",
   "metadata": {},
   "outputs": [
    {
     "data": {
      "text/html": [
       "<div>\n",
       "<style scoped>\n",
       "    .dataframe tbody tr th:only-of-type {\n",
       "        vertical-align: middle;\n",
       "    }\n",
       "\n",
       "    .dataframe tbody tr th {\n",
       "        vertical-align: top;\n",
       "    }\n",
       "\n",
       "    .dataframe thead th {\n",
       "        text-align: right;\n",
       "    }\n",
       "</style>\n",
       "<table border=\"1\" class=\"dataframe\">\n",
       "  <thead>\n",
       "    <tr style=\"text-align: right;\">\n",
       "      <th></th>\n",
       "      <th>bread</th>\n",
       "      <th>butter</th>\n",
       "      <th>coffee</th>\n",
       "      <th>eggs</th>\n",
       "      <th>jam</th>\n",
       "      <th>milk</th>\n",
       "    </tr>\n",
       "  </thead>\n",
       "  <tbody>\n",
       "    <tr>\n",
       "      <th>0</th>\n",
       "      <td>1</td>\n",
       "      <td>1</td>\n",
       "      <td>0</td>\n",
       "      <td>0</td>\n",
       "      <td>0</td>\n",
       "      <td>1</td>\n",
       "    </tr>\n",
       "    <tr>\n",
       "      <th>1</th>\n",
       "      <td>1</td>\n",
       "      <td>1</td>\n",
       "      <td>0</td>\n",
       "      <td>0</td>\n",
       "      <td>1</td>\n",
       "      <td>0</td>\n",
       "    </tr>\n",
       "    <tr>\n",
       "      <th>2</th>\n",
       "      <td>1</td>\n",
       "      <td>0</td>\n",
       "      <td>0</td>\n",
       "      <td>1</td>\n",
       "      <td>0</td>\n",
       "      <td>1</td>\n",
       "    </tr>\n",
       "    <tr>\n",
       "      <th>3</th>\n",
       "      <td>1</td>\n",
       "      <td>1</td>\n",
       "      <td>0</td>\n",
       "      <td>0</td>\n",
       "      <td>0</td>\n",
       "      <td>1</td>\n",
       "    </tr>\n",
       "    <tr>\n",
       "      <th>4</th>\n",
       "      <td>1</td>\n",
       "      <td>0</td>\n",
       "      <td>1</td>\n",
       "      <td>0</td>\n",
       "      <td>0</td>\n",
       "      <td>0</td>\n",
       "    </tr>\n",
       "    <tr>\n",
       "      <th>5</th>\n",
       "      <td>0</td>\n",
       "      <td>0</td>\n",
       "      <td>1</td>\n",
       "      <td>1</td>\n",
       "      <td>1</td>\n",
       "      <td>0</td>\n",
       "    </tr>\n",
       "  </tbody>\n",
       "</table>\n",
       "</div>"
      ],
      "text/plain": [
       "   bread  butter  coffee  eggs  jam  milk\n",
       "0      1       1       0     0    0     1\n",
       "1      1       1       0     0    1     0\n",
       "2      1       0       0     1    0     1\n",
       "3      1       1       0     0    0     1\n",
       "4      1       0       1     0    0     0\n",
       "5      0       0       1     1    1     0"
      ]
     },
     "execution_count": 18,
     "metadata": {},
     "output_type": "execute_result"
    }
   ],
   "source": [
    "df.drop(columns='Transaction',inplace=True)\n",
    "df"
   ]
  },
  {
   "cell_type": "markdown",
   "id": "f1f8e5fa",
   "metadata": {},
   "source": [
    "### Step 3: Count Single Items\n",
    "See how many transactions include each item."
   ]
  },
  {
   "cell_type": "code",
   "execution_count": 7,
   "id": "8770cf10",
   "metadata": {},
   "outputs": [
    {
     "data": {
      "text/plain": [
       "bread     5\n",
       "butter    3\n",
       "coffee    2\n",
       "eggs      2\n",
       "jam       2\n",
       "milk      3\n",
       "dtype: int64"
      ]
     },
     "execution_count": 7,
     "metadata": {},
     "output_type": "execute_result"
    }
   ],
   "source": [
    "df.sum()"
   ]
  },
  {
   "cell_type": "markdown",
   "id": "06a4f0e5",
   "metadata": {},
   "source": [
    "### Step 4: Define Apriori Function\n",
    "This function finds frequent itemsets of size 1, 2, and 3 with minimum support."
   ]
  },
  {
   "cell_type": "code",
   "execution_count": 42,
   "id": "30baa98a",
   "metadata": {},
   "outputs": [
    {
     "name": "stdout",
     "output_type": "stream",
     "text": [
      "Itemset: {'bread'} -> Support: 0.83\n",
      "Itemset: {'butter'} -> Support: 0.5\n",
      "Itemset: {'milk'} -> Support: 0.5\n",
      "Itemset: {'bread', 'butter'} -> Support: 0.5\n",
      "Itemset: {'bread', 'milk'} -> Support: 0.5\n"
     ]
    }
   ],
   "source": [
    "def find_frequent_itemsets(df, min_support):\n",
    "    n = len(df)\n",
    "    result = []\n",
    "    \n",
    "    for k in [1, 2, 3]:\n",
    "        for items in combinations(df.columns, k):\n",
    "            mask = df[list(items)].all(axis=1)\n",
    "            support = mask.sum() / n\n",
    "            if support >= min_support:\n",
    "                result.append((frozenset(items), round(support,2)))\n",
    "    return result\n",
    "\n",
    "min_support = 0.5\n",
    "frequent_itemsets = find_frequent_itemsets(df, min_support)\n",
    "for itemset, support in frequent_itemsets:\n",
    "    print(f\"Itemset: {set(itemset)} -> Support: {support}\")"
   ]
  },
  {
   "cell_type": "code",
   "execution_count": null,
   "id": "ce8db693",
   "metadata": {},
   "outputs": [],
   "source": []
  },
  {
   "cell_type": "markdown",
   "id": "ec43a005",
   "metadata": {},
   "source": [
    "### Step 5: Run Apriori\n",
    "Set `min_support = 0.6` and display the frequent itemsets."
   ]
  },
  {
   "cell_type": "code",
   "execution_count": 44,
   "id": "c6e33702",
   "metadata": {},
   "outputs": [
    {
     "name": "stdout",
     "output_type": "stream",
     "text": [
      "{'bread'} -> Support: 0.83\n"
     ]
    }
   ],
   "source": [
    "frequent_itemsets = find_frequent_itemsets(df, min_support=0.6)\n",
    "for itemset, support in frequent_itemsets:\n",
    "    print(f\"{set(itemset)} -> Support: {support}\")"
   ]
  },
  {
   "cell_type": "markdown",
   "id": "0026f6da",
   "metadata": {},
   "source": [
    "### Step 6 Display as a DataFrame"
   ]
  },
  {
   "cell_type": "code",
   "execution_count": 45,
   "id": "2c772d61",
   "metadata": {},
   "outputs": [
    {
     "data": {
      "text/html": [
       "<div>\n",
       "<style scoped>\n",
       "    .dataframe tbody tr th:only-of-type {\n",
       "        vertical-align: middle;\n",
       "    }\n",
       "\n",
       "    .dataframe tbody tr th {\n",
       "        vertical-align: top;\n",
       "    }\n",
       "\n",
       "    .dataframe thead th {\n",
       "        text-align: right;\n",
       "    }\n",
       "</style>\n",
       "<table border=\"1\" class=\"dataframe\">\n",
       "  <thead>\n",
       "    <tr style=\"text-align: right;\">\n",
       "      <th></th>\n",
       "      <th>Itemset</th>\n",
       "      <th>Support</th>\n",
       "    </tr>\n",
       "  </thead>\n",
       "  <tbody>\n",
       "    <tr>\n",
       "      <th>0</th>\n",
       "      <td>(bread)</td>\n",
       "      <td>0.83</td>\n",
       "    </tr>\n",
       "  </tbody>\n",
       "</table>\n",
       "</div>"
      ],
      "text/plain": [
       "   Itemset  Support\n",
       "0  (bread)     0.83"
      ]
     },
     "execution_count": 45,
     "metadata": {},
     "output_type": "execute_result"
    }
   ],
   "source": [
    "pd.DataFrame(frequent_itemsets, columns=['Itemset', 'Support'])"
   ]
  },
  {
   "cell_type": "code",
   "execution_count": null,
   "id": "686950f7",
   "metadata": {},
   "outputs": [
    {
     "data": {
      "text/plain": [
       "['bread', 'butter', 'coffee', 'eggs', 'jam', 'milk']"
      ]
     },
     "execution_count": 50,
     "metadata": {},
     "output_type": "execute_result"
    }
   ],
   "source": []
  },
  {
   "cell_type": "markdown",
   "id": "068f6cea",
   "metadata": {},
   "source": [
    "# Orange Tool : - >Generate Same Frequent Patterns in Orange tools"
   ]
  },
  {
   "cell_type": "code",
   "execution_count": null,
   "id": "76aa891d",
   "metadata": {},
   "outputs": [],
   "source": []
  },
  {
   "cell_type": "markdown",
   "id": "744909d6",
   "metadata": {},
   "source": [
    "# Extra : - >  Define Apriori Function without itertools"
   ]
  },
  {
   "cell_type": "code",
   "execution_count": 53,
   "id": "db8ff032",
   "metadata": {},
   "outputs": [],
   "source": [
    "# l1 = list(df.columns)\n",
    "# def getCombination(l1, k):\n",
    "#     if k == 0:\n",
    "#         return [[]]\n",
    "#     if len(l1) < k:\n",
    "#         return []\n",
    "    \n",
    "#     result = []\n",
    "#     for i in range(len(l1)):\n",
    "#         item = l1[i]\n",
    "#         rest = l1[i+1:]\n",
    "#         for combination in getCombination(rest, k-1):\n",
    "#             result.append([item] + combination)\n",
    "#     return result\n"
   ]
  },
  {
   "cell_type": "code",
   "execution_count": null,
   "id": "d71a9b00",
   "metadata": {},
   "outputs": [],
   "source": []
  }
 ],
 "metadata": {
  "kernelspec": {
   "display_name": "Python 3",
   "language": "python",
   "name": "python3"
  },
  "language_info": {
   "codemirror_mode": {
    "name": "ipython",
    "version": 3
   },
   "file_extension": ".py",
   "mimetype": "text/x-python",
   "name": "python",
   "nbconvert_exporter": "python",
   "pygments_lexer": "ipython3",
   "version": "3.13.0"
  }
 },
 "nbformat": 4,
 "nbformat_minor": 5
}
