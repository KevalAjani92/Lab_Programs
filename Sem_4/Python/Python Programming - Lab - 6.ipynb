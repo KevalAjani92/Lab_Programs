{
 "cells": [
  {
   "attachments": {},
   "cell_type": "markdown",
   "metadata": {},
   "source": [
    "<a href='https://www.darshan.ac.in/'> <img src='https://www.darshan.ac.in/Content/media/DU_Logo.svg' width=\"250\" height=\"300\"/></a>\n",
    "<pre>\n",
    "<center><b><h1>Python Programming - 2301CS404</b></center>\n",
    "<center><b><h1>Lab - 6</b></center>    \n",
    "<center><b><h1>Keval Ajani</b></center>    \n",
    "<center><b><h1>23010101006</b></center>    \n",
    "<center><b><h1>class - 4A</b></center>    \n",
    "<center><b><h1>Roll No. 221</b></center>\n",
    "<pre>"
   ]
  },
  {
   "cell_type": "markdown",
   "metadata": {},
   "source": [
    "# Tuple"
   ]
  },
  {
   "cell_type": "markdown",
   "metadata": {},
   "source": [
    "### 01) WAP to find sum of tuple elements."
   ]
  },
  {
   "cell_type": "code",
   "execution_count": 2,
   "metadata": {},
   "outputs": [
    {
     "name": "stdout",
     "output_type": "stream",
     "text": [
      "150\n"
     ]
    }
   ],
   "source": [
    "t1 = (10,20,30,40,50)\n",
    "sum = 0\n",
    "for i in t1:\n",
    "    sum+=i\n",
    "print(sum)    "
   ]
  },
  {
   "cell_type": "markdown",
   "metadata": {},
   "source": [
    "### 02) WAP to find Maximum and Minimum K elements in a given tuple."
   ]
  },
  {
   "cell_type": "code",
   "execution_count": 13,
   "metadata": {},
   "outputs": [
    {
     "name": "stdout",
     "output_type": "stream",
     "text": [
      "Max Num : 1 2 3 \n",
      "Min Num : 9 8 5 "
     ]
    }
   ],
   "source": [
    "t1 = (1,5,2,8,3,4,9)\n",
    "sortedTuple = tuple(sorted(t1))\n",
    "\n",
    "k = int(input(\"Enter k :\"))\n",
    "print(\"Max Num : \",end=\"\")\n",
    "for i in range(k):\n",
    "    print(sortedTuple[i],end=\" \")\n",
    "print()\n",
    "print(\"Min Num : \",end=\"\")\n",
    "for i in range(k):\n",
    "    print(sortedTuple[-i-1],end=\" \")    \n",
    "    "
   ]
  },
  {
   "cell_type": "code",
   "execution_count": null,
   "metadata": {},
   "outputs": [
    {
     "name": "stdout",
     "output_type": "stream",
     "text": [
      "Min Element : (1, 2, 3)\n",
      "Max Element : (5, 8, 9)\n"
     ]
    }
   ],
   "source": [
    "t1 = (1,5,2,8,3,4,9)\n",
    "sortedTuple = tuple(sorted(t1))\n",
    "\n",
    "k = int(input(\"Enter k :\"))\n",
    "\n",
    "min_k_element = sortedTuple[:k]\n",
    "max_k_element = sortedTuple[-k:]\n",
    "\n",
    "print(\"Min Element :\",min_k_element)\n",
    "print(\"Max Element :\",max_k_element)"
   ]
  },
  {
   "cell_type": "markdown",
   "metadata": {},
   "source": [
    "### 03) WAP to find tuples which have all elements divisible by K from a list of tuples."
   ]
  },
  {
   "cell_type": "code",
   "execution_count": 20,
   "metadata": {},
   "outputs": [
    {
     "data": {
      "text/plain": [
       "[(12, 15)]"
      ]
     },
     "execution_count": 20,
     "metadata": {},
     "output_type": "execute_result"
    }
   ],
   "source": [
    "l1 = [(10,20),(12,15),(5,25),(18,22)]\n",
    "\n",
    "k = int(input(\"Enter Divisor(k) :\"))\n",
    "ans = []\n",
    "for i in l1:\n",
    "    for j in i:\n",
    "        if j%k!=0:\n",
    "            break\n",
    "    else:\n",
    "        ans.append(i)    \n",
    "ans        "
   ]
  },
  {
   "cell_type": "markdown",
   "metadata": {},
   "source": [
    "### 04) WAP to create a list of tuples from given list having number and its cube in each tuple."
   ]
  },
  {
   "cell_type": "code",
   "execution_count": 22,
   "metadata": {},
   "outputs": [
    {
     "data": {
      "text/plain": [
       "[(2, 8), (4, 64), (1, 1), (6, 216), (3, 27), (7, 343), (5, 125), (9, 729)]"
      ]
     },
     "execution_count": 22,
     "metadata": {},
     "output_type": "execute_result"
    }
   ],
   "source": [
    "l1 = [2,4,1,6,3,7,5,9]\n",
    "ans = [(i,i**3) for i in l1]\n",
    "ans    "
   ]
  },
  {
   "cell_type": "markdown",
   "metadata": {},
   "source": [
    "### 05) WAP to find tuples with all positive elements from the given list of tuples."
   ]
  },
  {
   "cell_type": "code",
   "execution_count": 24,
   "metadata": {},
   "outputs": [
    {
     "data": {
      "text/plain": [
       "[(10, 20), (18, 22)]"
      ]
     },
     "execution_count": 24,
     "metadata": {},
     "output_type": "execute_result"
    }
   ],
   "source": [
    "l1 = [(10,20),(-12,15),(-5,-25),(18,22)]\n",
    "ans = []\n",
    "for i in l1:\n",
    "    for j in i:\n",
    "        if j<0:\n",
    "            break\n",
    "    else:\n",
    "        ans.append(i)\n",
    "ans            "
   ]
  },
  {
   "cell_type": "markdown",
   "metadata": {},
   "source": [
    "### 06) WAP to add tuple to list and vice – versa."
   ]
  },
  {
   "cell_type": "code",
   "execution_count": 26,
   "metadata": {},
   "outputs": [
    {
     "data": {
      "text/plain": [
       "(3, 4, 12, [5, 46, 12])"
      ]
     },
     "execution_count": 26,
     "metadata": {},
     "output_type": "execute_result"
    }
   ],
   "source": [
    "l1 = [1,2,3,4,5]\n",
    "l1.append((4,3,5))\n",
    "\n",
    "t1 = (3,4,12,[5,46,12])\n",
    "t1"
   ]
  },
  {
   "cell_type": "markdown",
   "metadata": {},
   "source": [
    "### 07) WAP to remove tuples of length K."
   ]
  },
  {
   "cell_type": "code",
   "execution_count": null,
   "metadata": {},
   "outputs": [
    {
     "data": {
      "text/plain": [
       "[(12, 15, 27), (18, 22, 15, 50)]"
      ]
     },
     "execution_count": 28,
     "metadata": {},
     "output_type": "execute_result"
    }
   ],
   "source": [
    "l1 = [(10,20),(12,15,27),(5,25),(18,22,15,50)]\n",
    "k = int(input(\"Enter Length :\"))\n",
    "for i in l1:\n",
    "    if len(i)==k:\n",
    "        l1.remove(i)\n",
    "l1        \n"
   ]
  },
  {
   "cell_type": "markdown",
   "metadata": {},
   "source": [
    "### 08) WAP to remove duplicates from tuple."
   ]
  },
  {
   "cell_type": "code",
   "execution_count": 38,
   "metadata": {},
   "outputs": [
    {
     "data": {
      "text/plain": [
       "(10, 20, 30, 50, 60)"
      ]
     },
     "execution_count": 38,
     "metadata": {},
     "output_type": "execute_result"
    }
   ],
   "source": [
    "t1 = (10,20,10,30,20,50,60)\n",
    "# unique_tuple = tuple(set(t1))\n",
    "listUnique = []\n",
    "for i in t1:\n",
    "    if i not in listUnique:\n",
    "        listUnique.append(i)\n",
    "unique_tuple = tuple(listUnique)        \n",
    "unique_tuple"
   ]
  },
  {
   "cell_type": "markdown",
   "metadata": {},
   "source": [
    "### 09) WAP to multiply adjacent elements of a tuple and print that resultant tuple."
   ]
  },
  {
   "cell_type": "code",
   "execution_count": 40,
   "metadata": {},
   "outputs": [
    {
     "data": {
      "text/plain": [
       "(5, 10, 14, 21, 24)"
      ]
     },
     "execution_count": 40,
     "metadata": {},
     "output_type": "execute_result"
    }
   ],
   "source": [
    "t1 = (1,5,2,7,3,8)\n",
    "ans = tuple(t1[i]*t1[i+1] for i in range(len(t1)-1))\n",
    "ans"
   ]
  },
  {
   "cell_type": "markdown",
   "metadata": {},
   "source": [
    "### 10) WAP to test if the given tuple is distinct or not."
   ]
  },
  {
   "cell_type": "code",
   "execution_count": 42,
   "metadata": {},
   "outputs": [
    {
     "data": {
      "text/plain": [
       "True"
      ]
     },
     "execution_count": 42,
     "metadata": {},
     "output_type": "execute_result"
    }
   ],
   "source": [
    "t1 = (10,20,10,30,20,50,60)\n",
    "is_distinct = (len(t1) == len(set(t1)))\n",
    "is_distinct"
   ]
  }
 ],
 "metadata": {
  "kernelspec": {
   "display_name": "Python 3",
   "language": "python",
   "name": "python3"
  },
  "language_info": {
   "codemirror_mode": {
    "name": "ipython",
    "version": 3
   },
   "file_extension": ".py",
   "mimetype": "text/x-python",
   "name": "python",
   "nbconvert_exporter": "python",
   "pygments_lexer": "ipython3",
   "version": "3.13.0"
  }
 },
 "nbformat": 4,
 "nbformat_minor": 4
}
