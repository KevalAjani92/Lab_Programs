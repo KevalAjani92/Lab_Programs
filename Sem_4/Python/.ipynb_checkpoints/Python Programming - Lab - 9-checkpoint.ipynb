{
 "cells": [
  {
   "cell_type": "markdown",
   "metadata": {},
   "source": [
    "<a href='https://www.darshan.ac.in/'> <img src='https://www.darshan.ac.in/Content/media/DU_Logo.svg' width=\"250\" height=\"300\"/></a>\n",
    "<pre>\n",
    "<center><b><h1>Keval Ajani | 23010101006</b></center>\n",
    "<center><b><h1>Python Programming - 2301CS404</b></center>\n",
    "<center><b><h1>Lab - 9</b></center>    \n",
    "<pre>"
   ]
  },
  {
   "cell_type": "markdown",
   "metadata": {},
   "source": [
    "# File I/O"
   ]
  },
  {
   "cell_type": "markdown",
   "metadata": {},
   "source": [
    "### 01) WAP to read and display the contents of a text file. (also try to open the file in some other directory) \n",
    "#### - in the form of a string\n",
    "#### - line by line\n",
    "#### - in the form of a list"
   ]
  },
  {
   "cell_type": "code",
   "execution_count": 2,
   "metadata": {},
   "outputs": [
    {
     "name": "stdout",
     "output_type": "stream",
     "text": [
      "Hello World\n",
      "This is an abc file for demo purpose\n",
      "Keval Ajani\n"
     ]
    }
   ],
   "source": [
    "fp = open(\"abc.txt\",\"r\")\n",
    "\n",
    "data = fp.read()\n",
    "print(data)\n",
    "fp.close()"
   ]
  },
  {
   "cell_type": "code",
   "execution_count": 10,
   "metadata": {},
   "outputs": [
    {
     "name": "stdout",
     "output_type": "stream",
     "text": [
      "Hello World\n",
      "\n",
      "This is an abc file for demo purpose\n",
      "\n",
      "Keval Ajani\n"
     ]
    }
   ],
   "source": [
    "# Line by Line\n",
    "fp = open(\"abc.txt\",\"r\")\n",
    "temp = fp.tell()\n",
    "end = fp.seek(0,2)\n",
    "fp.seek(temp,0)\n",
    "while fp.tell()!=end:\n",
    "    print(fp.readline())\n",
    "fp.close()"
   ]
  },
  {
   "cell_type": "code",
   "execution_count": 12,
   "metadata": {},
   "outputs": [
    {
     "name": "stdout",
     "output_type": "stream",
     "text": [
      "Hello World\n",
      "This is an abc file for demo purpose\n",
      "Keval Ajani"
     ]
    }
   ],
   "source": [
    "# Line by Line\n",
    "fp = open(\"abc.txt\",\"r\")\n",
    "for line in fp:\n",
    "    print(line,end=\"\")\n",
    "fp.close()"
   ]
  },
  {
   "cell_type": "code",
   "execution_count": 13,
   "metadata": {},
   "outputs": [
    {
     "name": "stdout",
     "output_type": "stream",
     "text": [
      "['Hello World\\n', 'This is an abc file for demo purpose\\n', 'Keval Ajani']\n"
     ]
    }
   ],
   "source": [
    "fp = open(\"abc.txt\",\"r\")\n",
    "l1 = fp.readlines()\n",
    "print(l1)\n",
    "fp.close()"
   ]
  },
  {
   "cell_type": "markdown",
   "metadata": {},
   "source": [
    "### 02) WAP to create file named \"new.txt\" only if it doesn't exist."
   ]
  },
  {
   "cell_type": "code",
   "execution_count": 19,
   "metadata": {},
   "outputs": [
    {
     "name": "stdout",
     "output_type": "stream",
     "text": [
      "Complete Writing\n"
     ]
    }
   ],
   "source": [
    "fp = open(\"new.txt\",\"x\")\n",
    "fp.write(\"Hello World From AK\")\n",
    "print(\"Complete Writing\")\n",
    "fp.close()"
   ]
  },
  {
   "cell_type": "markdown",
   "metadata": {},
   "source": [
    "### 03) WAP to read first 5 lines from the text file."
   ]
  },
  {
   "cell_type": "code",
   "execution_count": 23,
   "metadata": {},
   "outputs": [
    {
     "name": "stdout",
     "output_type": "stream",
     "text": [
      "1 Hello World\n",
      "This is an abc file for demo purpose\n",
      "Keval Ajani\n",
      "2 Hello World\n",
      "This is an abc file for demo purpose\n"
     ]
    }
   ],
   "source": [
    "fp = open(\"abc.txt\",\"r\")\n",
    "\n",
    "for i in range(5):\n",
    "    print(fp.readline(),end=\"\")\n",
    "fp.close()    "
   ]
  },
  {
   "cell_type": "markdown",
   "metadata": {},
   "source": [
    "### 04) WAP to find the longest word(s) in a file"
   ]
  },
  {
   "cell_type": "code",
   "execution_count": 57,
   "metadata": {},
   "outputs": [
    {
     "name": "stdout",
     "output_type": "stream",
     "text": [
      "purpose is max with length 7\n"
     ]
    }
   ],
   "source": [
    "fp = open(\"abc.txt\",\"r\")\n",
    "l1 = fp.readlines()\n",
    "words = []\n",
    "for i in l1:\n",
    "    for j in i.split():\n",
    "        words.append(j)\n",
    "maxLen = 0\n",
    "maxWord = ''\n",
    "for i in words:\n",
    "       if len(i)>maxLen:\n",
    "           maxLen = len(i)\n",
    "           maxWord = i\n",
    "print(f\"{maxWord} is max with length {maxLen}\")                \n",
    "fp.close()"
   ]
  },
  {
   "cell_type": "markdown",
   "metadata": {},
   "source": [
    "### 05) WAP to count the no. of lines, words and characters in a given text file."
   ]
  },
  {
   "cell_type": "code",
   "execution_count": 32,
   "metadata": {},
   "outputs": [
    {
     "name": "stdout",
     "output_type": "stream",
     "text": [
      "Lines = 6\n",
      "Words = 26\n",
      "Characters = 100\n"
     ]
    }
   ],
   "source": [
    "fp = open(\"abc.txt\",\"r\")\n",
    "lines = fp.readlines()\n",
    "print(f\"Lines = {len(lines)}\")\n",
    "words = []\n",
    "chars = 0\n",
    "for i in lines:\n",
    "    for j in i.split():\n",
    "        words.append(j)\n",
    "        chars+=len(j)\n",
    "print(f\"Words = {len(words)}\")  \n",
    "print(f\"Characters = {chars}\")        \n",
    "fp.close()"
   ]
  },
  {
   "cell_type": "markdown",
   "metadata": {},
   "source": [
    "### 06) WAP to copy the content of a file to the another file."
   ]
  },
  {
   "cell_type": "code",
   "execution_count": 33,
   "metadata": {},
   "outputs": [],
   "source": [
    "fp = open(\"abc.txt\",\"r\")\n",
    "fw = open(\"abcCopy.txt\",\"w\")\n",
    "\n",
    "fw.writelines(fp.readlines())\n",
    "fp.close()\n",
    "fw.close()"
   ]
  },
  {
   "cell_type": "markdown",
   "metadata": {},
   "source": [
    "### 07) WAP to find the size of the text file. "
   ]
  },
  {
   "cell_type": "code",
   "execution_count": 34,
   "metadata": {},
   "outputs": [
    {
     "name": "stdout",
     "output_type": "stream",
     "text": [
      "Size : 130 bytes\n"
     ]
    }
   ],
   "source": [
    "fp = open(\"abc.txt\",\"r\")\n",
    "\n",
    "fp.seek(0,2)\n",
    "print(f\"Size : {fp.tell()} bytes\")\n",
    "fp.close()"
   ]
  },
  {
   "cell_type": "markdown",
   "metadata": {},
   "source": [
    "### 08) WAP to create an UDF named frequency to count occurances of the specific word in a given text file."
   ]
  },
  {
   "cell_type": "code",
   "execution_count": 40,
   "metadata": {},
   "outputs": [
    {
     "name": "stdout",
     "output_type": "stream",
     "text": [
      "Word purpose is repeated 2 times\n"
     ]
    }
   ],
   "source": [
    "def frequency(word):\n",
    "    word = word.lower()\n",
    "    fp = open(\"abc.txt\",\"r\")\n",
    "    lines = fp.readlines()\n",
    "    words = [j for i in lines for j in i.split()]\n",
    "    print(f\"Word {word} is repeated {words.count(word)} times\")\n",
    "    fp.close()    \n",
    "frequency(\"purpose\")    "
   ]
  },
  {
   "cell_type": "markdown",
   "metadata": {},
   "source": [
    "### 09) WAP to get the score of five subjects from the user, store them in a file. Fetch those marks and find the highest score."
   ]
  },
  {
   "cell_type": "code",
   "execution_count": 2,
   "metadata": {},
   "outputs": [
    {
     "name": "stdout",
     "output_type": "stream",
     "text": [
      "6\n"
     ]
    }
   ],
   "source": [
    "fw = open(\"stumark.txt\",\"w+\")\n",
    "\n",
    "for i in range(5):\n",
    "    fw.write(input(f\"Enter mark of subject {i+1}\")+\"\\n\")\n",
    "    \n",
    "fw.seek(0,0)    \n",
    "lines = [int(i.removesuffix('\\n')) for i in fw]    \n",
    "print(max(lines))\n",
    "fw.close()    "
   ]
  },
  {
   "cell_type": "markdown",
   "metadata": {},
   "source": [
    "### 10) WAP to write first 100 prime numbers to a file named primenumbers.txt \n",
    "(Note: each number should be in new line)"
   ]
  },
  {
   "cell_type": "code",
   "execution_count": 7,
   "metadata": {},
   "outputs": [],
   "source": [
    "def isPrime(num):\n",
    "    if num<=1:\n",
    "        return False\n",
    "    for i in range(2,int(num**0.5)+1):\n",
    "        if num%i==0:\n",
    "            return False\n",
    "    return True    \n",
    "\n",
    "fp = open(\"primenumbers.txt\",\"w\")\n",
    "count = 0\n",
    "num = 2\n",
    "while count<100:\n",
    "    if isPrime(num):\n",
    "        fp.write(str(num)+\"\\n\")\n",
    "        count+=1\n",
    "    num+=1    \n",
    "fp.close()"
   ]
  },
  {
   "cell_type": "markdown",
   "metadata": {},
   "source": [
    "### 11) WAP to merge two files and write it in a new file."
   ]
  },
  {
   "cell_type": "code",
   "execution_count": 8,
   "metadata": {},
   "outputs": [],
   "source": [
    "fp1 = open(\"abc.txt\",\"r\")\n",
    "fp2 = open(\"new.txt\",\"r\")\n",
    "fw = open(\"extra.txt\",\"w\")\n",
    "\n",
    "fw.writelines(fp1.readlines())\n",
    "fw.write(\"\\n\")\n",
    "fw.writelines(fp2.readlines())\n",
    "fp1.close()\n",
    "fp2.close()\n",
    "fw.close()"
   ]
  },
  {
   "cell_type": "markdown",
   "metadata": {},
   "source": [
    "### 12) WAP to replace word1 by word2 of a text file. Write the updated data to new file."
   ]
  },
  {
   "cell_type": "code",
   "execution_count": 3,
   "metadata": {},
   "outputs": [
    {
     "name": "stdout",
     "output_type": "stream",
     "text": [
      "Done\n"
     ]
    }
   ],
   "source": [
    "import re\n",
    "\n",
    "with open(\"abc.txt\",\"r\") as fr:\n",
    "    data = fr.read()\n",
    "    \n",
    "updatedData = re.sub(rf'\\b{re.escape(\"is\")}\\b',\"issss\",data)    \n",
    "\n",
    "with open(\"new.txt\",\"w\") as fw:\n",
    "    fw.write(updatedData)\n",
    "\n",
    "print(\"Done\")    "
   ]
  },
  {
   "cell_type": "markdown",
   "metadata": {},
   "source": [
    "### 13) Demonstrate tell() and seek() for all the cases(seek from beginning-end-current position) taking a suitable example of your choice."
   ]
  },
  {
   "cell_type": "code",
   "execution_count": 5,
   "metadata": {},
   "outputs": [
    {
     "name": "stdout",
     "output_type": "stream",
     "text": [
      "Initial position: 0\n",
      "Reading 5 characters: b'Hello'\n",
      "Position after reading 5 characters: 5\n",
      "Position after seek(0): 0\n",
      "Position after seek(10, 1): 2\n",
      "Reading 5 characters after seek: b'llo, '\n",
      "Position after seek(-10, 2): 47\n",
      "Reading from near the end: b'cond line.'\n"
     ]
    }
   ],
   "source": [
    "with open(\"example.txt\", \"w\") as file:\n",
    "    file.write(\"Hello, this is an example file.\\nThis is the second line.\")\n",
    "\n",
    "with open(\"example.txt\", \"rb\") as file:\n",
    "    # Case 1: tell() shows the current position\n",
    "    print(\"Initial position:\", file.tell())  # Expected: 0 (start of file)\n",
    "    \n",
    "    print(\"Reading 5 characters:\", file.read(5))  # Output: \"Hello\"\n",
    "    print(\"Position after reading 5 characters:\", file.tell())  # Expected: 5\n",
    "\n",
    "    # Case 2: seek() from the beginning of the file (offset=0)\n",
    "    file.seek(0)  # Moves to the start of the file\n",
    "    print(\"Position after seek(0):\", file.tell())  # Expected: 0\n",
    "\n",
    "    # Case 3: seek() from the current position\n",
    "    file.seek(10, 1)  # Move 10 characters ahead from the current position\n",
    "    print(\"Position after seek(10, 1):\", file.tell())  # Expected: 10\n",
    "\n",
    "    print(\"Reading 5 characters after seek:\", file.read(5))  # Output: \"is is\"\n",
    "\n",
    "    # Case 4: seek() from the end of the file\n",
    "    file.seek(-10, 2)  # Move 10 characters backward from the end of the file\n",
    "    print(\"Position after seek(-10, 2):\", file.tell())  # Position near end of file\n",
    "\n",
    "    print(\"Reading from near the end:\", file.read())  # Output: \"line.\"\n"
   ]
  }
 ],
 "metadata": {
  "kernelspec": {
   "display_name": "Python 3",
   "language": "python",
   "name": "python3"
  },
  "language_info": {
   "codemirror_mode": {
    "name": "ipython",
    "version": 3
   },
   "file_extension": ".py",
   "mimetype": "text/x-python",
   "name": "python",
   "nbconvert_exporter": "python",
   "pygments_lexer": "ipython3",
   "version": "3.13.0"
  }
 },
 "nbformat": 4,
 "nbformat_minor": 4
}
