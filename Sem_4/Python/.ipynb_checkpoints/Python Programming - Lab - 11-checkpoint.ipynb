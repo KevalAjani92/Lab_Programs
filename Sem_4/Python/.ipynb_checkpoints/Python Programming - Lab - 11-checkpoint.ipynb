{
 "cells": [
  {
   "attachments": {},
   "cell_type": "markdown",
   "metadata": {},
   "source": [
    "<a href='https://www.darshan.ac.in/'> <img src='https://www.darshan.ac.in/Content/media/DU_Logo.svg' width=\"250\" height=\"300\"/></a>\n",
    "<pre>\n",
    "<center><b><h1>Keval Ajani | 23010101006</b></center>\n",
    "<center><b><h1>Python Programming - 2301CS404</b></center>\n",
    "<center><b><h1>Lab - 11</b></center>    \n",
    "<pre>"
   ]
  },
  {
   "cell_type": "markdown",
   "metadata": {},
   "source": [
    "# Modules"
   ]
  },
  {
   "cell_type": "markdown",
   "metadata": {},
   "source": [
    "### 01) WAP to create Calculator module which defines functions like add, sub,mul and div. \n",
    "### Create another .py file that uses the functions available in Calculator module."
   ]
  },
  {
   "cell_type": "code",
   "execution_count": 3,
   "metadata": {},
   "outputs": [
    {
     "name": "stdout",
     "output_type": "stream",
     "text": [
      "5\n",
      "-1\n",
      "6\n",
      "1.5\n"
     ]
    }
   ],
   "source": [
    "import Calculator as cal\n",
    "print(cal.add(2,3))\n",
    "print(cal.sub(2,3))\n",
    "print(cal.mul(2,3))\n",
    "print(cal.div(3,2))"
   ]
  },
  {
   "cell_type": "markdown",
   "metadata": {},
   "source": [
    "### 02) WAP to pick a random character from a given String."
   ]
  },
  {
   "cell_type": "code",
   "execution_count": 7,
   "metadata": {},
   "outputs": [
    {
     "data": {
      "text/plain": [
       "'o'"
      ]
     },
     "execution_count": 7,
     "metadata": {},
     "output_type": "execute_result"
    }
   ],
   "source": [
    "import random\n",
    "\n",
    "string = \"Hello World\"\n",
    "\n",
    "random.choice(string)"
   ]
  },
  {
   "cell_type": "markdown",
   "metadata": {},
   "source": [
    "### 03) WAP to pick a random element from a given list."
   ]
  },
  {
   "cell_type": "code",
   "execution_count": 16,
   "metadata": {},
   "outputs": [
    {
     "data": {
      "text/plain": [
       "2"
      ]
     },
     "execution_count": 16,
     "metadata": {},
     "output_type": "execute_result"
    }
   ],
   "source": [
    "l1 = [1,2,3,21,5,7]\n",
    "\n",
    "random.choice(l1)"
   ]
  },
  {
   "cell_type": "markdown",
   "metadata": {},
   "source": [
    "### 04) WAP to roll a dice in such a way that every time you get the same number."
   ]
  },
  {
   "cell_type": "code",
   "execution_count": 33,
   "metadata": {},
   "outputs": [
    {
     "data": {
      "text/plain": [
       "5"
      ]
     },
     "execution_count": 33,
     "metadata": {},
     "output_type": "execute_result"
    }
   ],
   "source": [
    "random.seed(10)\n",
    "random.randrange(1,7)"
   ]
  },
  {
   "cell_type": "markdown",
   "metadata": {},
   "source": [
    "### 05) WAP to generate 3 random integers between 100 and 999 which is divisible by 5."
   ]
  },
  {
   "cell_type": "code",
   "execution_count": 37,
   "metadata": {},
   "outputs": [
    {
     "name": "stdout",
     "output_type": "stream",
     "text": [
      "410\n",
      "980\n",
      "345\n"
     ]
    }
   ],
   "source": [
    "i=0\n",
    "while i<3:\n",
    "    temp = random.randrange(100,999)\n",
    "    if temp % 5==0:\n",
    "        print(temp)\n",
    "        i+=1"
   ]
  },
  {
   "cell_type": "markdown",
   "metadata": {},
   "source": [
    "### 06) WAP to generate 100 random lottery tickets and pick two lucky tickets from it and announce them as Winner and Runner up respectively."
   ]
  },
  {
   "cell_type": "code",
   "execution_count": 40,
   "metadata": {},
   "outputs": [
    {
     "name": "stdout",
     "output_type": "stream",
     "text": [
      "Winner :  79\n",
      "Runner-up :  49\n"
     ]
    }
   ],
   "source": [
    "l1 = [i for i in range(1,101)]\n",
    "\n",
    "print(\"Winner : \",random.choice(l1))\n",
    "print(\"Runner-up : \",random.choice(l1))"
   ]
  },
  {
   "cell_type": "markdown",
   "metadata": {},
   "source": [
    "### 07) WAP to print current date and time in Python."
   ]
  },
  {
   "cell_type": "code",
   "execution_count": 42,
   "metadata": {},
   "outputs": [
    {
     "name": "stdout",
     "output_type": "stream",
     "text": [
      "Date : 2025-02-10 12:44:31.370389\n"
     ]
    }
   ],
   "source": [
    "import datetime\n",
    "\n",
    "print(\"Date :\",datetime.datetime.now())"
   ]
  },
  {
   "cell_type": "markdown",
   "metadata": {},
   "source": [
    "### 08) Subtract a week (7 days) from a given date in Python."
   ]
  },
  {
   "cell_type": "code",
   "execution_count": 43,
   "metadata": {},
   "outputs": [
    {
     "name": "stdout",
     "output_type": "stream",
     "text": [
      "Today : 2025-02-10\n",
      "7 Days Before : 2025-02-03\n"
     ]
    }
   ],
   "source": [
    "td = datetime.date.today()\n",
    "\n",
    "print(\"Today :\",td)\n",
    "print(\"7 Days Before :\",td-datetime.timedelta(weeks=1))"
   ]
  },
  {
   "cell_type": "markdown",
   "metadata": {},
   "source": [
    "### 09) WAP to Calculate number of days between two given dates."
   ]
  },
  {
   "cell_type": "code",
   "execution_count": 45,
   "metadata": {},
   "outputs": [
    {
     "name": "stdout",
     "output_type": "stream",
     "text": [
      "Number of Days : 19 days, 0:00:00\n"
     ]
    }
   ],
   "source": [
    "sd = datetime.date(2025,1,22)\n",
    "ed = datetime.date(2025,2,10)\n",
    "\n",
    "print(\"Number of Days :\",ed-sd)"
   ]
  },
  {
   "cell_type": "markdown",
   "metadata": {},
   "source": [
    "### 10) WAP to Find the day of the week of a given date.(i.e. wether it is sunday/monday/tuesday/etc.)"
   ]
  },
  {
   "cell_type": "code",
   "execution_count": 46,
   "metadata": {},
   "outputs": [
    {
     "name": "stdout",
     "output_type": "stream",
     "text": [
      "Day : Monday\n"
     ]
    }
   ],
   "source": [
    "dt = datetime.date.today()\n",
    "\n",
    "print(\"Day :\",dt.strftime(\"%A\"))"
   ]
  },
  {
   "cell_type": "markdown",
   "metadata": {},
   "source": [
    "### 11) WAP to demonstrate the use of date time module."
   ]
  },
  {
   "cell_type": "code",
   "execution_count": 66,
   "metadata": {},
   "outputs": [
    {
     "name": "stdout",
     "output_type": "stream",
     "text": [
      "Current Datetime: 2025-02-10 12:59:04.636354\n",
      "Formatted Date : 10-February-2025\n",
      "String to Date:  2025-02-10 12:53:03\n"
     ]
    }
   ],
   "source": [
    "print(\"Current Datetime:\",datetime.datetime.now())\n",
    "\n",
    "print(\"Formatted Date :\",datetime.datetime.now().strftime(\"%d-%B-%Y\"))\n",
    "\n",
    "print(\"String to Date: \",datetime.datetime.strptime(\"10-2-2025 12:53:03\",\"%d-%m-%Y %H:%M:%S\"))"
   ]
  },
  {
   "cell_type": "markdown",
   "metadata": {},
   "source": [
    "### 12) WAP to demonstrate the use of the math module."
   ]
  },
  {
   "cell_type": "code",
   "execution_count": 67,
   "metadata": {},
   "outputs": [
    {
     "name": "stdout",
     "output_type": "stream",
     "text": [
      "Factorial of 5:  120\n",
      "Square root of 25:  5.0\n",
      "Power of 2^5:  32.0\n",
      "Log of 10:  2.302585092994046\n",
      "Log of 10 with base 2:  3.321928094887362\n",
      "Log of 10 with base 10:  1.0\n",
      "Sin of 90:  1.0\n",
      "Ceil of 10.5:  11\n",
      "Floor of 10.5:  10\n",
      "Round of 10.5:  10\n",
      "Round of 10.5 with 0 decimal:  10.0\n"
     ]
    }
   ],
   "source": [
    "import math\n",
    "\n",
    "print(\"Factorial of 5: \", math.factorial(5))\n",
    "print(\"Square root of 25: \", math.sqrt(25))\n",
    "print(\"Power of 2^5: \", math.pow(2,5))\n",
    "print(\"Log of 10: \", math.log(10))\n",
    "print(\"Log of 10 with base 2: \", math.log2(10))\n",
    "print(\"Log of 10 with base 10: \", math.log10(10))\n",
    "print(\"Sin of 90: \", math.sin(math.radians(90)))\n",
    "print(\"Ceil of 10.5: \", math.ceil(10.5))\n",
    "print(\"Floor of 10.5: \", math.floor(10.5))\n",
    "print(\"Round of 10.5: \", round(10.5))\n",
    "print(\"Round of 10.5 with 0 decimal: \", round(10.5, 0))"
   ]
  }
 ],
 "metadata": {
  "kernelspec": {
   "display_name": "Python 3",
   "language": "python",
   "name": "python3"
  },
  "language_info": {
   "codemirror_mode": {
    "name": "ipython",
    "version": 3
   },
   "file_extension": ".py",
   "mimetype": "text/x-python",
   "name": "python",
   "nbconvert_exporter": "python",
   "pygments_lexer": "ipython3",
   "version": "3.13.0"
  }
 },
 "nbformat": 4,
 "nbformat_minor": 4
}
