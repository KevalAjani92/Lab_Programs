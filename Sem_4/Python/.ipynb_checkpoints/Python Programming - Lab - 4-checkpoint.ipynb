{
 "cells": [
  {
   "cell_type": "markdown",
   "metadata": {},
   "source": [
    "\n",
    "<a href='https://www.darshan.ac.in/'> <img src='https://www.darshan.ac.in/Content/media/DU_Logo.svg' width=\"250\" height=\"300\"/></a>\n",
    "<pre>\n",
    "<center><b><h1>Keval Ajani | 23010101006</b></center>\n",
    "<center><b><h1>Python Programming - 2301CS404</b></center>\n",
    "<center><b><h1>Lab - 4</b></center>\n",
    "<pre>"
   ]
  },
  {
   "cell_type": "markdown",
   "metadata": {},
   "source": [
    "# String"
   ]
  },
  {
   "cell_type": "markdown",
   "metadata": {},
   "source": [
    "### 01) WAP to check whether the given string is palindrome or not."
   ]
  },
  {
   "cell_type": "code",
   "execution_count": 6,
   "metadata": {},
   "outputs": [
    {
     "name": "stdout",
     "output_type": "stream",
     "text": [
      "racecar is Palindrome String\n"
     ]
    }
   ],
   "source": [
    "str = input(\"Enter a String : \").lower()\n",
    "# for i in range(0,len(str)//2):\n",
    "#     if(str[i]!=str[len(str)-i-1]):\n",
    "#         print(str,\"is Not Palindrome String\")\n",
    "#         break;\n",
    "# else:\n",
    "#     print(str,\"is Palindrome String\")\n",
    "\n",
    "revStr = str[::-1]\n",
    "if str == revStr:\n",
    "    print(str,\"is Palindrome String\")\n",
    "else:\n",
    "    print(str,\"is Not Palindrome String\")    "
   ]
  },
  {
   "cell_type": "markdown",
   "metadata": {},
   "source": [
    "### 02) WAP to reverse the words in the given string."
   ]
  },
  {
   "cell_type": "code",
   "execution_count": 15,
   "metadata": {},
   "outputs": [
    {
     "name": "stdout",
     "output_type": "stream",
     "text": [
      "laveK inajA\n"
     ]
    }
   ],
   "source": [
    "str = input(\"Enter a String : \")\n",
    "strList = str.split()\n",
    "for i in range(len(strList)):\n",
    "    strList[i] = strList[i][::-1]\n",
    "str = \" \".join(strList)    \n",
    "print(str)    "
   ]
  },
  {
   "cell_type": "markdown",
   "metadata": {},
   "source": [
    "### 03) WAP to remove ith character from given string."
   ]
  },
  {
   "cell_type": "code",
   "execution_count": 20,
   "metadata": {},
   "outputs": [
    {
     "name": "stdout",
     "output_type": "stream",
     "text": [
      "Keal\n"
     ]
    }
   ],
   "source": [
    "str = input(\"Enter a String : \")\n",
    "i = int(input(\"Enter i : \"))\n",
    "\n",
    "str = str[:i]+str[i+1:]\n",
    "print(str)        "
   ]
  },
  {
   "cell_type": "markdown",
   "metadata": {},
   "source": [
    "### 04) WAP to find length of string without using len function."
   ]
  },
  {
   "cell_type": "code",
   "execution_count": 16,
   "metadata": {},
   "outputs": [
    {
     "name": "stdout",
     "output_type": "stream",
     "text": [
      "Length Of String :  5\n"
     ]
    }
   ],
   "source": [
    "str = input(\"Enter a String : \")\n",
    "length = 0\n",
    "for i in str:\n",
    "    length+=1\n",
    "print(\"Length Of String : \",length)    "
   ]
  },
  {
   "cell_type": "markdown",
   "metadata": {},
   "source": [
    "### 05) WAP to print even length word in string."
   ]
  },
  {
   "cell_type": "code",
   "execution_count": 26,
   "metadata": {},
   "outputs": [
    {
     "name": "stdout",
     "output_type": "stream",
     "text": [
      "Ajan\n"
     ]
    }
   ],
   "source": [
    "str = input(\"Enter a String : \")\n",
    "strList = str.split()\n",
    "flag = False\n",
    "for i in range(len(strList)):\n",
    "    if len(strList[i])%2==0:\n",
    "        flag = True\n",
    "        print(strList[i])\n",
    "if flag is False :\n",
    "    print(\"String don't have any even length words\") "
   ]
  },
  {
   "cell_type": "markdown",
   "metadata": {},
   "source": [
    "### 06) WAP to count numbers of vowels in given string."
   ]
  },
  {
   "cell_type": "code",
   "execution_count": 28,
   "metadata": {},
   "outputs": [
    {
     "name": "stdout",
     "output_type": "stream",
     "text": [
      "3\n"
     ]
    }
   ],
   "source": [
    "str = input(\"Enter a String : \").lower()\n",
    "vowel = 0\n",
    "for i in str:\n",
    "    if i in \"aeiou\":\n",
    "        vowel+=1\n",
    "print(vowel)        "
   ]
  },
  {
   "cell_type": "markdown",
   "metadata": {},
   "source": [
    "### 07) WAP to capitalize the first and last character of each word in a string."
   ]
  },
  {
   "cell_type": "code",
   "execution_count": 33,
   "metadata": {},
   "outputs": [
    {
     "name": "stdout",
     "output_type": "stream",
     "text": [
      "KevaL AjanI\n"
     ]
    }
   ],
   "source": [
    "str = input(\"Enter a String : \")\n",
    "strList = str.split()\n",
    "\n",
    "for i in range(len(strList)):\n",
    "    strList[i] = strList[i][0].upper() + strList[i][1:len(strList[i])-1] + strList[i][len(strList[i])-1].upper()\n",
    "str = \" \".join(strList)\n",
    "print(str)    "
   ]
  },
  {
   "cell_type": "markdown",
   "metadata": {},
   "source": [
    "### 08) WAP to convert given array to string."
   ]
  },
  {
   "cell_type": "code",
   "execution_count": 37,
   "metadata": {},
   "outputs": [
    {
     "name": "stdout",
     "output_type": "stream",
     "text": [
      "Keval Ajani 221 4A B.Tech CSE\n"
     ]
    }
   ],
   "source": [
    "size = int(input(\"Enter Size Of Array : \"))\n",
    "\n",
    "array = []\n",
    "for i in range(size):\n",
    "    array.append(input(f\"Enter Element at index {i} :\"))\n",
    "str = \" \".join(array)\n",
    "print(str)    "
   ]
  },
  {
   "cell_type": "markdown",
   "metadata": {},
   "source": [
    "### 09) Check if the password and confirm password is same or not. \n",
    "### In case of only case's mistake, show the error message."
   ]
  },
  {
   "cell_type": "code",
   "execution_count": 43,
   "metadata": {},
   "outputs": [
    {
     "name": "stdout",
     "output_type": "stream",
     "text": [
      "ERROR : Mistake in Case\n"
     ]
    }
   ],
   "source": [
    "password = input(\"Enter Password : \")\n",
    "confirmPassword = input(\"Enter Confirm Password : \")\n",
    "\n",
    "if len(password)!=len(confirmPassword):\n",
    "    print(\"Both are Not Equal\")\n",
    "elif password == confirmPassword:\n",
    "    print(\"Both are Same\")        \n",
    "else:\n",
    "    for i in range(len(password)):\n",
    "        if password[i] == confirmPassword[i].swapcase():\n",
    "            print(\"ERROR : Mistake in Case\")\n",
    "            break;\n",
    "    else:\n",
    "        print(\"Both are Not Equal\")        "
   ]
  },
  {
   "cell_type": "markdown",
   "metadata": {},
   "source": [
    "### 10) : Display credit card number. \n",
    "### card no. : 1234 5678 9012 3456\n",
    "### display as  : **** **** **** 3456"
   ]
  },
  {
   "cell_type": "code",
   "execution_count": 3,
   "metadata": {},
   "outputs": [
    {
     "name": "stdout",
     "output_type": "stream",
     "text": [
      "**** **** **** 3456\n"
     ]
    }
   ],
   "source": [
    "num = input(\"Enter Credit Card No. : \")\n",
    "parts = num.split()\n",
    "marked_parts = [\"****\"]*(len(parts)-1)+[parts[-1]]\n",
    "ansStr = \" \".join(marked_parts)\n",
    "print(ansStr)"
   ]
  },
  {
   "cell_type": "markdown",
   "metadata": {},
   "source": [
    "### 11) : Checking if the two strings are Anagram or not.\n",
    "### s1 = decimal and s2 = medical are Anagram"
   ]
  },
  {
   "cell_type": "code",
   "execution_count": 11,
   "metadata": {},
   "outputs": [
    {
     "name": "stdout",
     "output_type": "stream",
     "text": [
      "Anagrams\n"
     ]
    }
   ],
   "source": [
    "s1 = input(\"Enter First String : \")    \n",
    "s2 = input(\"Enter Second String : \")    \n",
    "\n",
    "#  using sorted() function which returns sorted string.\n",
    "if sorted(s1) == sorted(s2):\n",
    "    print(\"Anagrams\")\n",
    "else:\n",
    "    print(\"Not Anagrams\")    "
   ]
  },
  {
   "cell_type": "markdown",
   "metadata": {},
   "source": [
    "### 12) : Rearrange the given string. First lowercase then uppercase alphabets.\n",
    "### input : EHlsarwiwhtwMV\n",
    "### output : lsarwiwhtwEHMV"
   ]
  },
  {
   "cell_type": "code",
   "execution_count": 32,
   "metadata": {},
   "outputs": [
    {
     "name": "stdout",
     "output_type": "stream",
     "text": [
      "lsarwiwhtwEHMV\n"
     ]
    }
   ],
   "source": [
    "str = input(\"Enter a String : \")\n",
    "lower = \"\"\n",
    "upper = \"\"\n",
    "for i in range(len(str)):\n",
    "    if str[i:i+1].isupper():\n",
    "        upper += str[i:i+1]\n",
    "    elif str[i:i+1].islower():\n",
    "        lower += str[i:i+1]\n",
    "ans = lower+upper\n",
    "print(ans)                "
   ]
  }
 ],
 "metadata": {
  "kernelspec": {
   "display_name": "Python 3",
   "language": "python",
   "name": "python3"
  },
  "language_info": {
   "codemirror_mode": {
    "name": "ipython",
    "version": 3
   },
   "file_extension": ".py",
   "mimetype": "text/x-python",
   "name": "python",
   "nbconvert_exporter": "python",
   "pygments_lexer": "ipython3",
   "version": "3.13.0"
  }
 },
 "nbformat": 4,
 "nbformat_minor": 4
}
