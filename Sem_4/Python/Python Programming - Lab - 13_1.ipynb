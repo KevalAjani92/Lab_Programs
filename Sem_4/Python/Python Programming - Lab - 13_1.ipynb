{
 "cells": [
  {
   "cell_type": "markdown",
   "metadata": {},
   "source": [
    "<a href='https://www.darshan.ac.in/'> <img src='https://www.darshan.ac.in/Content/media/DU_Logo.svg' width=\"250\" height=\"300\"/></a>\n",
    "<pre>\n",
    "<center><b><h1>Keval Ajani | 23010101006</b></center>\n",
    "<center><b><h1>Python Programming - 2301CS404</b></center>\n",
    "<center><b><h1>Lab - 13_1</b></center>    \n",
    "<pre>"
   ]
  },
  {
   "cell_type": "markdown",
   "metadata": {},
   "source": [
    "# OOP"
   ]
  },
  {
   "cell_type": "markdown",
   "metadata": {},
   "source": [
    "### 01) Write a Program to create a class by name Students, and initialize attributes like name, age, and grade while creating an object."
   ]
  },
  {
   "cell_type": "code",
   "execution_count": 2,
   "metadata": {},
   "outputs": [
    {
     "name": "stdout",
     "output_type": "stream",
     "text": [
      "Name:  AK\n",
      "Age:  19\n",
      "Grade:  A++\n"
     ]
    }
   ],
   "source": [
    "class Students:\n",
    "    def __init__(self,Name,Age,Grade):\n",
    "        self.Name = Name\n",
    "        self.Age = Age\n",
    "        self.Grade = Grade\n",
    "\n",
    "stu1 = Students(\"AK\",19,'A++')\n",
    "print(\"Name: \",stu1.Name)        \n",
    "print(\"Age: \",stu1.Age)        \n",
    "print(\"Grade: \",stu1.Grade)        "
   ]
  },
  {
   "cell_type": "markdown",
   "metadata": {},
   "source": [
    "### 02) Create a class named Bank_Account with Account_No, User_Name, Email,Account_Type and Account_Balance data members. Also create a method GetAccountDetails() and DisplayAccountDetails(). Create main method to demonstrate the Bank_Account class."
   ]
  },
  {
   "cell_type": "code",
   "execution_count": 3,
   "metadata": {},
   "outputs": [
    {
     "name": "stdout",
     "output_type": "stream",
     "text": [
      "Account_Number : 123\n",
      "User_Name : AK\n",
      "Email : ak9206@gmail.com\n",
      "Account_Type : Saving\n",
      "Account_Balance : 900000\n"
     ]
    }
   ],
   "source": [
    "class Bank_Account:\n",
    "    def __init__(self):\n",
    "        pass\n",
    "    \n",
    "    def GetAccountDetails(self):\n",
    "        self.Account_No = int(input(\"Enter Account Number :\"))\n",
    "        self.User_Name = input(\"Enter User_Name :\")\n",
    "        self.Email = input(\"Enter Email :\")\n",
    "        self.Account_Type = input(\"Enter Account_Type :\")\n",
    "        self.Account_Balance = int(input(\"Enter Account_Balance :\"))\n",
    "    \n",
    "    def DisplayAccountDetails(self):\n",
    "        print(\"Account_Number :\",self.Account_No)\n",
    "        print(\"User_Name :\",self.User_Name)\n",
    "        print(\"Email :\",self.Email)\n",
    "        print(\"Account_Type :\",self.Account_Type)\n",
    "        print(\"Account_Balance :\",self.Account_Balance)\n",
    "        \n",
    "acc1 = Bank_Account()\n",
    "acc1.GetAccountDetails()\n",
    "acc1.DisplayAccountDetails()        "
   ]
  },
  {
   "cell_type": "markdown",
   "metadata": {},
   "source": [
    "### 03) WAP to create Circle class with area and perimeter function to find area and perimeter of circle."
   ]
  },
  {
   "cell_type": "code",
   "execution_count": 4,
   "metadata": {},
   "outputs": [
    {
     "name": "stdout",
     "output_type": "stream",
     "text": [
      "Area : 153.93804002589985\n",
      "Perimeter : 43.982297150257104\n"
     ]
    }
   ],
   "source": [
    "import math\n",
    "class Circle:\n",
    "    def __init__(self,radius):\n",
    "        self.radius = radius\n",
    "        \n",
    "    def area(self):\n",
    "        return math.pi * math.pow(self.radius,2)\n",
    "    \n",
    "    def perimeter(self):\n",
    "        return 2 * math.pi * self.radius\n",
    "\n",
    "cir1 = Circle(7)\n",
    "print(f\"Area : {cir1.area()}\")       \n",
    "print(f\"Perimeter : {cir1.perimeter()}\")       "
   ]
  },
  {
   "cell_type": "markdown",
   "metadata": {},
   "source": [
    "### 04) Create a class for employees that includes attributes such as name, age, salary, and methods to update and display employee information."
   ]
  },
  {
   "cell_type": "code",
   "execution_count": 7,
   "metadata": {},
   "outputs": [
    {
     "name": "stdout",
     "output_type": "stream",
     "text": [
      "Before Updating\n",
      "Name : AK\n",
      "Age : 19\n",
      "Salary : 91900\n",
      "\n",
      "After Updating\n",
      "Name : Nikunj\n",
      "Age : 18\n",
      "Salary : 12321\n"
     ]
    }
   ],
   "source": [
    "class Employee:\n",
    "    def __init__(self,Name,Age,Salary):\n",
    "        self.Name = Name\n",
    "        self.Age = Age\n",
    "        self.Salary = Salary\n",
    "    \n",
    "    def updateDetails(self):\n",
    "        self.Name = input(\"Enter New Name :\")\n",
    "        self.Age = int(input(\"Enter New Age :\"))\n",
    "        self.Salary = int(input(\"Enter New Salary :\"))\n",
    "        \n",
    "    def displayDetails(self):\n",
    "        print(f\"Name : {self.Name}\")        \n",
    "        print(f\"Age : {self.Age}\")        \n",
    "        print(f\"Salary : {self.Salary}\")        \n",
    "\n",
    "emp1 = Employee(\"AK\",19,91900)\n",
    "print(\"Before Updating\")\n",
    "emp1.displayDetails()\n",
    "emp1.updateDetails()\n",
    "print(\"\\nAfter Updating\")\n",
    "emp1.displayDetails()        "
   ]
  },
  {
   "cell_type": "markdown",
   "metadata": {},
   "source": [
    "### 05) Create a bank account class with methods to deposit, withdraw, and check balance."
   ]
  },
  {
   "cell_type": "code",
   "execution_count": 10,
   "metadata": {},
   "outputs": [
    {
     "name": "stdout",
     "output_type": "stream",
     "text": [
      "Balance After Deposit : 50400\n",
      "Insufficient Balance To Withdreaw\n",
      "Available Balance : 50400\n"
     ]
    }
   ],
   "source": [
    "class bank_Account:\n",
    "    def __init__(self,Account_Number,Balance):\n",
    "        self.Account_Number = Account_Number\n",
    "        self.Balance = Balance\n",
    "    \n",
    "    def deposit(self,amount):\n",
    "        self.Balance += amount\n",
    "        print(f\"Balance After Deposit : {self.Balance}\")\n",
    "        \n",
    "    def withdraw(self,amount):\n",
    "        if amount > self.Balance:\n",
    "            print(\"Insufficient Balance To Withdreaw\")\n",
    "            print(f\"Available Balance : {self.Balance}\")\n",
    "        else:\n",
    "            self.Balance -= amount\n",
    "            print(f\"Balance After Withdrawl : {self.Balance}\")\n",
    "    \n",
    "    def checkBalance(self):\n",
    "        print(f\"Available Balance : {self.Balance}\")\n",
    "\n",
    "account1 = bank_Account(78934,50000)\n",
    "account1.deposit(400)\n",
    "account1.withdraw(80000)            \n",
    "                        "
   ]
  },
  {
   "cell_type": "markdown",
   "metadata": {},
   "source": [
    "### 06) Create a class for managing inventory that includes attributes such as item name, price, quantity, and methods to add, remove, and update items."
   ]
  },
  {
   "cell_type": "code",
   "execution_count": 1,
   "metadata": {},
   "outputs": [
    {
     "name": "stdout",
     "output_type": "stream",
     "text": [
      "Product Name:  Laptop\n",
      "Product Price:  2333\n",
      "Product Quantity:  12\n",
      "\n",
      "Product Name:  Fsd\n",
      "Product Price:  1222\n",
      "Product Quantity:  12\n",
      "\n",
      "Product Name:  \n",
      "Product Price:  0\n",
      "Product Quantity:  0\n"
     ]
    }
   ],
   "source": [
    "class Product:\n",
    "    def __init__(self):\n",
    "        pass\n",
    "    \n",
    "    def Add_Product(self):\n",
    "        self.name = input(\"Enter Product Name: \")\n",
    "        self.price = int(input(\"Enter Product Price: \"))\n",
    "        self.quantity = int(input(\"Enter Product Quantity: \"))\n",
    "        \n",
    "    def Update_Product(self):\n",
    "        self.name = input(\"Enter Product Name: \")\n",
    "        self.price = int(input(\"Enter Product Price: \"))\n",
    "        self.quantity = int(input(\"Enter Product Quantity: \"))\n",
    "        \n",
    "    def Remove_Product(self):\n",
    "        self.name = \"\"\n",
    "        self.price = 0\n",
    "        self.quantity = 0\n",
    "    \n",
    "    def Display_Product(self):\n",
    "        print(\"Product Name: \", self.name)\n",
    "        print(\"Product Price: \", self.price)\n",
    "        print(\"Product Quantity: \", self.quantity)\n",
    "    \n",
    "product1 = Product()\n",
    "product1.Add_Product()\n",
    "product1.Display_Product()\n",
    "print()\n",
    "product1.Update_Product()\n",
    "product1.Display_Product()\n",
    "print()\n",
    "product1.Remove_Product()\n",
    "product1.Display_Product()"
   ]
  },
  {
   "cell_type": "markdown",
   "metadata": {},
   "source": [
    "### 07) Create a Class with instance attributes of your choice."
   ]
  },
  {
   "cell_type": "code",
   "execution_count": 13,
   "metadata": {},
   "outputs": [
    {
     "name": "stdout",
     "output_type": "stream",
     "text": [
      "John\n",
      "25\n",
      "90\n"
     ]
    }
   ],
   "source": [
    "class Student:\n",
    "    def __init__(self, name, age, grade):\n",
    "        self.name = name\n",
    "        self.age = age\n",
    "        self.grade = grade\n",
    "        \n",
    "student1 = Student(\"John\", 25, 90)\n",
    "print(student1.name)\n",
    "print(student1.age)\n",
    "print(student1.grade)"
   ]
  },
  {
   "cell_type": "markdown",
   "metadata": {},
   "source": [
    "### 08) Create one class student_kit\n",
    "#### Within the student_kit class create one class attribute principal name ( Mr ABC )\n",
    "#### Create one attendance method and take input as number of days.\n",
    "#### While creating student take input their name .\n",
    "#### Create one certificate for each student by taking input of number of days present in class."
   ]
  },
  {
   "cell_type": "code",
   "execution_count": 14,
   "metadata": {},
   "outputs": [
    {
     "name": "stdout",
     "output_type": "stream",
     "text": [
      "Certificate Issued to:  Keval\n",
      "Number of Days Attended:  123\n",
      "Principal Name:  Mr ABC\n"
     ]
    }
   ],
   "source": [
    "class student_kit:\n",
    "    # Class attribute\n",
    "    principal_name = \"Mr ABC\"\n",
    "    \n",
    "    def __init__(self, student_name):\n",
    "        # Instance attribute\n",
    "        self.student_name = student_name\n",
    "    \n",
    "    def attendance(self, days_present):\n",
    "        self.days_present = days_present\n",
    "        self.generate_certificate()\n",
    "    \n",
    "    def generate_certificate(self):\n",
    "        print(\"Certificate Issued to: \", self.student_name)\n",
    "        print(\"Number of Days Attended: \", self.days_present)\n",
    "        print(\"Principal Name: \", self.principal_name)\n",
    "\n",
    "# Example usage\n",
    "student_name = input(\"Enter student's name: \")\n",
    "student = student_kit(student_name)\n",
    "days_present = int(input(\"Enter number of days present: \"))\n",
    "student.attendance(days_present)\n"
   ]
  },
  {
   "cell_type": "markdown",
   "metadata": {},
   "source": [
    "### 09) Define Time class with hour and minute as data member. Also define addition method to add two time objects."
   ]
  },
  {
   "cell_type": "code",
   "execution_count": null,
   "metadata": {},
   "outputs": [
    {
     "name": "stdout",
     "output_type": "stream",
     "text": [
      "4 hours and 15 minutes\n"
     ]
    }
   ],
   "source": [
    "class Time:\n",
    "    def __init__(self, hour, minute):\n",
    "        self.hour = hour\n",
    "        self.minute = minute\n",
    "\n",
    "    def Add_time(self, other):\n",
    "        total_minutes = self.minute + other.minute\n",
    "        total_hours = self.hour + other.hour + total_minutes // 60\n",
    "        total_minutes = total_minutes % 60\n",
    "        return Time(total_hours, total_minutes)\n",
    "\n",
    "    def Display_Time(self):\n",
    "        print(f\"{self.hour} hours and {self.minute} minutes\")\n",
    "\n",
    "time1 = Time(2, 45)\n",
    "time2 = Time(1, 30)\n",
    "time3 = time1.Add_time(time2)\n",
    "time3.Display_Time()\n",
    "\n"
   ]
  }
 ],
 "metadata": {
  "kernelspec": {
   "display_name": "Python 3 (ipykernel)",
   "language": "python",
   "name": "python3"
  },
  "language_info": {
   "codemirror_mode": {
    "name": "ipython",
    "version": 3
   },
   "file_extension": ".py",
   "mimetype": "text/x-python",
   "name": "python",
   "nbconvert_exporter": "python",
   "pygments_lexer": "ipython3",
   "version": "3.12.7"
  }
 },
 "nbformat": 4,
 "nbformat_minor": 4
}
