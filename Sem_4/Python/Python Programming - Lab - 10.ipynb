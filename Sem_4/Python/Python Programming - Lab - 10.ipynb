{
 "cells": [
  {
   "cell_type": "markdown",
   "metadata": {},
   "source": [
    "<a href='https://www.darshan.ac.in/'> <img src='https://www.darshan.ac.in/Content/media/DU_Logo.svg' width=\"250\" height=\"300\"/></a>\n",
    "<pre>\n",
    "<center><b><h1>Keval Ajani | 23010101006</b></center>\n",
    "<center><b><h1>Python Programming - 2301CS404</b></center>\n",
    "<center><b><h1>Lab - 10</b></center>    \n",
    "<pre>"
   ]
  },
  {
   "cell_type": "markdown",
   "metadata": {},
   "source": [
    "# Exception Handling"
   ]
  },
  {
   "cell_type": "markdown",
   "metadata": {},
   "source": [
    "### 01) WAP to handle following exceptions:\n",
    "1. ZeroDivisionError\n",
    "2. ValueError\n",
    "3. TypeError\n",
    "#### Note: handle them using separate except blocks and also using single except block too."
   ]
  },
  {
   "cell_type": "code",
   "execution_count": 5,
   "metadata": {},
   "outputs": [
    {
     "name": "stdout",
     "output_type": "stream",
     "text": [
      "Can't Divide with zero\n"
     ]
    }
   ],
   "source": [
    "try:\n",
    "    print(1/0)           # ZeroDivisionError\n",
    "    # print(int('a'))    # ValueError\n",
    "    # print(0+'a')       # Type Error\n",
    "except ZeroDivisionError:\n",
    "    print(\"Can't Divide with zero\")\n",
    "except ValueError:\n",
    "    print(\"Value Error\")\n",
    "except TypeError:\n",
    "    print(\"Type Error\")\n",
    "            "
   ]
  },
  {
   "cell_type": "markdown",
   "metadata": {},
   "source": [
    "### 02)  WAP to handle following exceptions:\n",
    "1. IndexError\n",
    "2. KeyError"
   ]
  },
  {
   "cell_type": "code",
   "execution_count": 8,
   "metadata": {},
   "outputs": [
    {
     "name": "stdout",
     "output_type": "stream",
     "text": [
      "Key Error Occured\n"
     ]
    }
   ],
   "source": [
    "try:\n",
    "    l1 = [1,2,3]\n",
    "    # print(l1[3])        # IndexError\n",
    "    \n",
    "    d1 = {'a':1}\n",
    "    print(d1['b'])        # KeyError\n",
    "except IndexError:\n",
    "    print(\"Index Error Occured\")  \n",
    "except KeyError:\n",
    "    print(\"Key Error Occured\")            "
   ]
  },
  {
   "cell_type": "markdown",
   "metadata": {},
   "source": [
    "### 03) WAP to handle following exceptions:\n",
    "1. FileNotFoundError\n",
    "2. ModuleNotFoundError"
   ]
  },
  {
   "cell_type": "code",
   "execution_count": 11,
   "metadata": {},
   "outputs": [
    {
     "name": "stdout",
     "output_type": "stream",
     "text": [
      "Module Not Found Error\n"
     ]
    }
   ],
   "source": [
    "try:\n",
    "    fp = open(\"AK.txt\",\"r\")   # FileNotFoundError\n",
    "    # import module           # ModuleNotFoundError\n",
    "except FileNotFoundError:\n",
    "    print(\"File Not Found Error\")\n",
    "except ModuleNotFoundError:    \n",
    "    print(\"Module Not Found Error\")        "
   ]
  },
  {
   "cell_type": "markdown",
   "metadata": {},
   "source": [
    "### 04) WAP that catches all type of exceptions in a single except block."
   ]
  },
  {
   "cell_type": "code",
   "execution_count": 15,
   "metadata": {},
   "outputs": [
    {
     "name": "stdout",
     "output_type": "stream",
     "text": [
      "An Error Occured : division by zero\n"
     ]
    }
   ],
   "source": [
    "try:\n",
    "    print(1/0)\n",
    "except Exception as e:\n",
    "    print(\"An Error Occured :\",e)    "
   ]
  },
  {
   "cell_type": "markdown",
   "metadata": {},
   "source": [
    "### 05) WAP to demonstrate else  and finally block."
   ]
  },
  {
   "cell_type": "code",
   "execution_count": 16,
   "metadata": {},
   "outputs": [
    {
     "name": "stdout",
     "output_type": "stream",
     "text": [
      "Something Went Wrong\n",
      "finally executed\n"
     ]
    }
   ],
   "source": [
    "try:\n",
    "    print(1/0)\n",
    "except:\n",
    "    print(\"Something Went Wrong\")\n",
    "finally:\n",
    "    print(\"finally executed\")        "
   ]
  },
  {
   "cell_type": "code",
   "execution_count": 2,
   "metadata": {},
   "outputs": [
    {
     "name": "stdout",
     "output_type": "stream",
     "text": [
      "Error Occured\n"
     ]
    }
   ],
   "source": [
    "try:\n",
    "    print(1/0)\n",
    "except:\n",
    "    print(\"Error Occured\")\n",
    "else:        \n",
    "    print(\"Else Block Executed\")"
   ]
  },
  {
   "cell_type": "markdown",
   "metadata": {},
   "source": [
    "### 06) Create a short program that prompts the user for a list of grades separated by commas. \n",
    "### Split the string into individual grades and use a list comprehension to convert each string to an integer. \n",
    "### You should use a try statement to inform the user when the values they entered cannot be converted."
   ]
  },
  {
   "cell_type": "code",
   "execution_count": 3,
   "metadata": {},
   "outputs": [
    {
     "name": "stdout",
     "output_type": "stream",
     "text": [
      "invalid literal for int() with base 10: 'a'\n"
     ]
    }
   ],
   "source": [
    "try:\n",
    "    string = input(\"Enter Grades Comma Separated : \")\n",
    "    \n",
    "    grades = [int(i) for i in string.split(',')]\n",
    "    print(grades)\n",
    "except Exception as e:    \n",
    "    print(e)"
   ]
  },
  {
   "cell_type": "markdown",
   "metadata": {},
   "source": [
    "### 07) WAP to create an udf divide(a,b) that handles ZeroDivisionError."
   ]
  },
  {
   "cell_type": "code",
   "execution_count": 24,
   "metadata": {},
   "outputs": [
    {
     "name": "stdout",
     "output_type": "stream",
     "text": [
      "Can't Divide By Zero\n"
     ]
    }
   ],
   "source": [
    "def divide(a,b):\n",
    "    try:\n",
    "        result =a/b\n",
    "        print(\"Answer = \",result)\n",
    "    except ZeroDivisionError:\n",
    "        print(\"Can't Divide By Zero\")\n",
    "\n",
    "divide(3,0)            "
   ]
  },
  {
   "cell_type": "markdown",
   "metadata": {},
   "source": [
    "### 08) WAP that gets an age of a person form the user and raises ValueError with error message: \"Enter Valid Age\" :\n",
    "#### If the age is less than 18. \n",
    "#### otherwise print the age."
   ]
  },
  {
   "cell_type": "code",
   "execution_count": 27,
   "metadata": {},
   "outputs": [
    {
     "name": "stdout",
     "output_type": "stream",
     "text": [
      "invalid literal for int() with base 10: 'as'\n"
     ]
    }
   ],
   "source": [
    "\n",
    "try:\n",
    "    age = int(input(\"Enter Age : \"))\n",
    "    if age < 18:\n",
    "        raise ValueError(\"Enter Valid Age\")\n",
    "    else:\n",
    "        print(\"Age =\",age)\n",
    "except Exception as e:\n",
    "    print(e)            "
   ]
  },
  {
   "cell_type": "markdown",
   "metadata": {},
   "source": [
    "### 09) WAP to raise your custom Exception named InvalidUsernameError with the error message : \"Username must be between 5 and 15 characters long\":\n",
    "#### if the given name is having characters less than 5 or greater than 15.\n",
    "#### otherwise print the given username."
   ]
  },
  {
   "cell_type": "code",
   "execution_count": 28,
   "metadata": {},
   "outputs": [
    {
     "name": "stdout",
     "output_type": "stream",
     "text": [
      "UserName Must be between 5 and 15 characters long\n"
     ]
    }
   ],
   "source": [
    "class InvalidUsernameError(Exception):\n",
    "    def __init__(self, value):\n",
    "        self.value = value\n",
    "\n",
    "try:\n",
    "    name = input(\"Enter UserName :\")\n",
    "    if len(name)<5 or len(name)>15:\n",
    "        raise InvalidUsernameError(\"UserName Must be between 5 and 15 characters long\")\n",
    "    else:\n",
    "        print(\"Name is :\",name)  \n",
    "except Exception as e:\n",
    "    print(e)                    "
   ]
  },
  {
   "cell_type": "markdown",
   "metadata": {},
   "source": [
    "### 10) WAP to raise your custom Exception named NegativeNumberError with the error message : \"Cannot calculate the square root of a negative number\" :\n",
    "#### if the given number is negative.\n",
    "#### otherwise print the square root of the given number."
   ]
  },
  {
   "cell_type": "code",
   "execution_count": 31,
   "metadata": {},
   "outputs": [
    {
     "name": "stdout",
     "output_type": "stream",
     "text": [
      "Square Root Of 23 = 4.795831523312719\n"
     ]
    }
   ],
   "source": [
    "class NegativeNumberError(Exception):\n",
    "    def __init__(self, value):\n",
    "        self.value = value\n",
    "\n",
    "try:\n",
    "    num = int(input(\"Enter a Number To Find Square Root :\"))\n",
    "    if num<0:\n",
    "        raise NegativeNumberError(\"Cannot calculate the square root of a negative number\")\n",
    "    else:\n",
    "        print(f\"Square Root Of {num} = {num**0.5}\")\n",
    "except Exception as e:\n",
    "    print(e)        "
   ]
  }
 ],
 "metadata": {
  "kernelspec": {
   "display_name": "Python 3 (ipykernel)",
   "language": "python",
   "name": "python3"
  },
  "language_info": {
   "codemirror_mode": {
    "name": "ipython",
    "version": 3
   },
   "file_extension": ".py",
   "mimetype": "text/x-python",
   "name": "python",
   "nbconvert_exporter": "python",
   "pygments_lexer": "ipython3",
   "version": "3.12.7"
  }
 },
 "nbformat": 4,
 "nbformat_minor": 4
}
