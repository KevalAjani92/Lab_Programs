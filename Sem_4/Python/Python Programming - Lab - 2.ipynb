{
 "cells": [
  {
   "cell_type": "markdown",
   "metadata": {},
   "source": [
    "\n",
    "<a href='https://www.darshan.ac.in/'> <img src='https://www.darshan.ac.in/Content/media/DU_Logo.svg' width=\"250\" height=\"300\"/></a>\n",
    "<pre>\n",
    "<center><b><h1>Python Programming - 2301CS404</b></center>\n",
    "<center><b><h1>Lab - 2</b></center>    \n",
    "<center><b><h1>Keval Ajani</b></center>    \n",
    "<center><b><h1>23010101006</b></center>    \n",
    "<center><b><h1>class - 4A</b></center>    \n",
    "<center><b><h1>Roll No. 221</b></center>\n",
    "<pre>"
   ]
  },
  {
   "cell_type": "markdown",
   "metadata": {},
   "source": [
    "# if..else.."
   ]
  },
  {
   "cell_type": "markdown",
   "metadata": {},
   "source": [
    "### 01) WAP to check whether the given number is positive or negative."
   ]
  },
  {
   "cell_type": "code",
   "execution_count": null,
   "metadata": {},
   "outputs": [
    {
     "name": "stdout",
     "output_type": "stream",
     "text": [
      "Negative\n"
     ]
    }
   ],
   "source": [
    "a = int(input(\"Enter a Number : \"))\n",
    "if a>0 :\n",
    "    print(\"Positive\")\n",
    "else :\n",
    "    print(\"Negative\")    "
   ]
  },
  {
   "cell_type": "markdown",
   "metadata": {},
   "source": [
    "### 02) WAP to check whether the given number is odd or even."
   ]
  },
  {
   "cell_type": "code",
   "execution_count": 4,
   "metadata": {},
   "outputs": [
    {
     "name": "stdout",
     "output_type": "stream",
     "text": [
      "Odd Number\n"
     ]
    }
   ],
   "source": [
    "a = int(input(\"Enter a Number : \"))\n",
    "\n",
    "if a%2==0 :\n",
    "    print(\"Even Number\")\n",
    "else :\n",
    "    print(\"Odd Number\")    "
   ]
  },
  {
   "cell_type": "markdown",
   "metadata": {},
   "source": [
    "### 03) WAP to find out largest number from given two numbers using simple if and ternary operator."
   ]
  },
  {
   "cell_type": "code",
   "execution_count": 1,
   "metadata": {},
   "outputs": [
    {
     "name": "stdout",
     "output_type": "stream",
     "text": [
      "Enter First Number :  12\n",
      "Enter Second Number :  14\n"
     ]
    },
    {
     "name": "stdout",
     "output_type": "stream",
     "text": [
      "Max Number Is :  14\n"
     ]
    }
   ],
   "source": [
    "a = int(input(\"Enter First Number : \"))\n",
    "b = int(input(\"Enter Second Number : \"))\n",
    "max\n",
    "if a>b :\n",
    "    max = a\n",
    "else :\n",
    "    max = b\n",
    "print(\"Max Number Is : \",max)    "
   ]
  },
  {
   "cell_type": "code",
   "execution_count": 2,
   "metadata": {},
   "outputs": [
    {
     "name": "stdout",
     "output_type": "stream",
     "text": [
      "Enter First Number :  14\n",
      "Enter Second Number :  12\n"
     ]
    },
    {
     "name": "stdout",
     "output_type": "stream",
     "text": [
      "Max Number is  14\n"
     ]
    }
   ],
   "source": [
    "a = int(input(\"Enter First Number : \"))\n",
    "b = int(input(\"Enter Second Number : \"))\n",
    "\n",
    "print(\"Max Number is \",a if a>b else b)"
   ]
  },
  {
   "cell_type": "markdown",
   "metadata": {},
   "source": [
    "### 04) WAP to find out largest number from given three numbers."
   ]
  },
  {
   "cell_type": "code",
   "execution_count": 5,
   "metadata": {},
   "outputs": [
    {
     "name": "stdout",
     "output_type": "stream",
     "text": [
      "Max Number is :  6\n"
     ]
    }
   ],
   "source": [
    "a = int(input(\"Enter First Number : \"))\n",
    "b = int(input(\"Enter Second Number : \"))\n",
    "c = int(input(\"Enter Third Number : \"))\n",
    "\n",
    "if a>b and a>c :\n",
    "    print(\"Max Number is : \",a)\n",
    "elif b>c and b>a :\n",
    "    print(\"Max Number is : \",b)\n",
    "else : \n",
    "    print(\"Max Number is : \",c)        "
   ]
  },
  {
   "cell_type": "markdown",
   "metadata": {},
   "source": [
    "### 05) WAP to check whether the given year is leap year or not.\n",
    "[If a year can be divisible by 4 but not divisible by 100 then it is leap year but if it is divisible by 400 then it is leap year]"
   ]
  },
  {
   "cell_type": "code",
   "execution_count": 9,
   "metadata": {},
   "outputs": [
    {
     "name": "stdout",
     "output_type": "stream",
     "text": [
      "2023 is not Leap Year\n"
     ]
    }
   ],
   "source": [
    "year = int(input(\"Enter a Year : \"))\n",
    "\n",
    "if year%400==0 or (year%4==0 and year%100!=0) :\n",
    "    print(year,\"is Leap Year\")\n",
    "else : \n",
    "    print(year,\"is not Leap Year\")    "
   ]
  },
  {
   "cell_type": "markdown",
   "metadata": {},
   "source": [
    "### 06) WAP in python to display the name of the day according to the number given by the user."
   ]
  },
  {
   "cell_type": "code",
   "execution_count": 17,
   "metadata": {},
   "outputs": [
    {
     "name": "stdout",
     "output_type": "stream",
     "text": [
      "Day: Monday\n"
     ]
    }
   ],
   "source": [
    "num = int(input(\"Enter a number (1 or higher): \"))\n",
    "\n",
    "if num > 7:\n",
    "    num = (num - 1) % 7 + 1\n",
    "    \n",
    "if num == 1:\n",
    "    day = \"Monday\"\n",
    "elif num == 2:\n",
    "    day = \"Tuesday\"\n",
    "elif num == 3:\n",
    "    day = \"Wednesday\"\n",
    "elif num == 4:\n",
    "    day = \"Thursday\"\n",
    "elif num == 5:\n",
    "    day = \"Friday\"\n",
    "elif num == 6:\n",
    "    day = \"Saturday\"\n",
    "elif num == 7:\n",
    "    day = \"Sunday\"\n",
    "\n",
    "print(\"Day:\", day)\n",
    "    \n"
   ]
  },
  {
   "cell_type": "markdown",
   "metadata": {},
   "source": [
    "### 07) WAP to implement simple calculator which performs (add,sub,mul,div) of two no. based on user input."
   ]
  },
  {
   "cell_type": "code",
   "execution_count": 12,
   "metadata": {},
   "outputs": [
    {
     "name": "stdout",
     "output_type": "stream",
     "text": [
      "2 / 3 = 0.6666666666666666\n"
     ]
    }
   ],
   "source": [
    "a = int(input(\"Enter First Number : \"))\n",
    "b = int(input(\"Enter Second Number : \"))\n",
    "op = input(\"Enter Operator(+,-,*,/,%) : \")\n",
    "\n",
    "if op=='+' :\n",
    "    print(a,\"+\",b,\"=\",(a+b))\n",
    "elif op=='-' :\n",
    "    print(a,\"-\",b,\"=\",(a-b))    \n",
    "elif op=='*' :\n",
    "    print(a,\"*\",b,\"=\",(a*b))      \n",
    "elif op=='/' :\n",
    "    if b == 0:\n",
    "        print(\"Divisor Should Not be Zero\") \n",
    "    else :\n",
    "        print(a,\"/\",b,\"=\",(a/b))   \n",
    "elif op=='%':\n",
    "    print(a,\"%\",b,\"=\",(a%b))        \n",
    "else : \n",
    "    print(\"Enter Valid Operator\")          "
   ]
  },
  {
   "cell_type": "markdown",
   "metadata": {},
   "source": [
    "### 08) WAP to read marks of five subjects. Calculate percentage and print class accordingly. \n",
    "Fail below 35 </br>\n",
    "Pass Class between 35 to 45 </br>\n",
    "Second Class</br>\n",
    "between 45 to 60</br>\n",
    "First Class between 60 to 70</br> \n",
    "Distinction if more than 70"
   ]
  },
  {
   "cell_type": "code",
   "execution_count": 13,
   "metadata": {},
   "outputs": [
    {
     "name": "stdout",
     "output_type": "stream",
     "text": [
      "Distinction\n"
     ]
    }
   ],
   "source": [
    "a = int(input(\"Enter Mark Of First Subject : \"))\n",
    "b = int(input(\"Enter Mark Of Second Subject : \"))\n",
    "c = int(input(\"Enter Mark Of Third Subject : \"))\n",
    "d = int(input(\"Enter Mark Of Fourth Subject : \"))\n",
    "e = int(input(\"Enter Mark Of Fifth Subject : \"))\n",
    "\n",
    "percent = (a+b+c+d+e)/5\n",
    "if percent<35 :\n",
    "    print(\"Fail\")\n",
    "elif percent>=35 and percent<45 :\n",
    "    print(\"Pass Class\")\n",
    "elif percent>=45 and percent<60 :\n",
    "    print(\"Second Class\")\n",
    "elif percent>=60 and percent<70 :\n",
    "    print(\"First Class\")\n",
    "else :\n",
    "    print(\"Distinction\")                "
   ]
  },
  {
   "cell_type": "markdown",
   "metadata": {},
   "source": [
    "### 09) Three sides of a triangle are entered through the keyboard, WAP to check whether the triangle is isosceles, equilateral, scalene or right-angled triangle."
   ]
  },
  {
   "cell_type": "code",
   "execution_count": 20,
   "metadata": {},
   "outputs": [
    {
     "name": "stdout",
     "output_type": "stream",
     "text": [
      "The triangle is: Scalene triangle\n"
     ]
    }
   ],
   "source": [
    "a = float(input(\"Enter the first side of the triangle: \"))\n",
    "b = float(input(\"Enter the second side of the triangle: \"))\n",
    "c = float(input(\"Enter the third side of the triangle: \"))\n",
    "\n",
    "if a + b > c and a + c > b and b + c > a:\n",
    "    if a == b == c:\n",
    "        triangleType = \"Equilateral triangle\"\n",
    "    elif a == b or b == c or a == c:\n",
    "        triangleType = \"Isosceles triangle\"\n",
    "    elif (pow(a,2) + pow(b,2) == pow(c,2)) or (pow(a,2) + pow(c,2) == pow(b,2)) or (pow(b,2) + pow(c,2) == pow(a,2)):\n",
    "        triangleType = \"Right-angled triangle\"\n",
    "    else:\n",
    "        triangleType = \"Scalene triangle\"\n",
    "else:\n",
    "    triangleType = \"Not a valid triangle\"\n",
    "\n",
    "print(\"The triangle is:\", triangleType)\n"
   ]
  },
  {
   "cell_type": "markdown",
   "metadata": {},
   "source": [
    "### 10) WAP to find the second largest number among three user input numbers."
   ]
  },
  {
   "cell_type": "code",
   "execution_count": 14,
   "metadata": {},
   "outputs": [
    {
     "name": "stdout",
     "output_type": "stream",
     "text": [
      "The second largest number is: 5\n"
     ]
    }
   ],
   "source": [
    "num1 = int(input(\"Enter First Number : \"))\n",
    "num2 = int(input(\"Enter Second Number : \"))\n",
    "num3 = int(input(\"Enter Third Number : \"))\n",
    "\n",
    "if (num1 > num2 and num1 < num3) or (num1 < num2 and num1 > num3):\n",
    "    second_largest = num1\n",
    "elif (num2 > num1 and num2 < num3) or (num2 < num1 and num2 > num3):\n",
    "    second_largest = num2\n",
    "else:\n",
    "    second_largest = num3\n",
    "\n",
    "print(\"The second largest number is:\", second_largest)    "
   ]
  },
  {
   "cell_type": "markdown",
   "metadata": {},
   "source": [
    "### 11) WAP to calculate electricity bill based on following criteria. Which takes the unit from the user.\n",
    "a. First 1 to 50 units – Rs. 2.60/unit</br>\n",
    "b. Next 50 to 100 units – Rs. 3.25/unit</br>\n",
    "c. Next 100 to 200 units – Rs. 5.26/unit</br>\n",
    "d. above 200 units – Rs. 8.45/unit"
   ]
  },
  {
   "cell_type": "code",
   "execution_count": 16,
   "metadata": {},
   "outputs": [
    {
     "name": "stdout",
     "output_type": "stream",
     "text": [
      "Total Bill = 1241.0\n"
     ]
    }
   ],
   "source": [
    "unit = float(input(\"Enter Units : \"))\n",
    "\n",
    "if unit<=50 :\n",
    "    bill = unit*2.60\n",
    "elif unit>50 and unit<=100 :\n",
    "    bill = (50*2.60)+(unit-50)*3.25\n",
    "elif unit>100 and unit<=200 :\n",
    "    bill = (50*2.60)+(50*3.25)+(unit-100)*5.26\n",
    "else :\n",
    "    bill = (50*2.60)+(50*3.25)+(100*5.26)+(unit-200)*8.45\n",
    "    \n",
    "print(\"Total Bill =\",bill)                "
   ]
  }
 ],
 "metadata": {
  "kernelspec": {
   "display_name": "Python 3",
   "language": "python",
   "name": "python3"
  },
  "language_info": {
   "codemirror_mode": {
    "name": "ipython",
    "version": 3
   },
   "file_extension": ".py",
   "mimetype": "text/x-python",
   "name": "python",
   "nbconvert_exporter": "python",
   "pygments_lexer": "ipython3",
   "version": "3.13.0"
  }
 },
 "nbformat": 4,
 "nbformat_minor": 4
}
