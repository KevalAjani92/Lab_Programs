{
 "cells": [
  {
   "cell_type": "code",
   "execution_count": 55,
   "metadata": {},
   "outputs": [
    {
     "data": {
      "text/plain": [
       "[9, 5, 4, 3, 2, 1]"
      ]
     },
     "execution_count": 55,
     "metadata": {},
     "output_type": "execute_result"
    }
   ],
   "source": [
    "# Question - 1\n",
    "\n",
    "list1 = [1,3,9,2,5,4,3,2,1]\n",
    "\n",
    "ans = []\n",
    "for i in range(len(list1)):\n",
    "    for j in range(i+1,len(list1)):\n",
    "        if list1[i]<list1[j]:\n",
    "            break\n",
    "    else:\n",
    "        ans.append(list1[i])\n",
    "        \n",
    "ans        "
   ]
  },
  {
   "cell_type": "code",
   "execution_count": 58,
   "metadata": {},
   "outputs": [
    {
     "data": {
      "text/plain": [
       "[9, 5, 4, 3, 2, 1]"
      ]
     },
     "execution_count": 58,
     "metadata": {},
     "output_type": "execute_result"
    }
   ],
   "source": [
    "list1 = [1,3,9,2,5,4,3,2,1]\n",
    "\n",
    "ans = []\n",
    "max = list1[len(list1)-1]\n",
    "ans.append(max)\n",
    "\n",
    "for i in range(len(list1)-2,-1,-1):\n",
    "    if list1[i]>max:\n",
    "        ans.append(list1[i])\n",
    "        max = list1[i]\n",
    "list(reversed(ans))    "
   ]
  },
  {
   "cell_type": "code",
   "execution_count": 37,
   "metadata": {},
   "outputs": [
    {
     "data": {
      "text/plain": [
       "[-2, 1, 3, 9, 7, 4, 0, 0, 0]"
      ]
     },
     "execution_count": 37,
     "metadata": {},
     "output_type": "execute_result"
    }
   ],
   "source": [
    "# Question - 2\n",
    "\n",
    "l1 = [0,-2,1,0,3,9,7,0,4]\n",
    "\n",
    "index = 0\n",
    "for i in range(len(l1)):\n",
    "    if l1[i]!=0:\n",
    "        l1[index] = l1[i]\n",
    "        index+=1\n",
    "for i in range(index,len(l1)):\n",
    "    l1[i] = 0        \n",
    "l1      "
   ]
  },
  {
   "cell_type": "code",
   "execution_count": 16,
   "metadata": {},
   "outputs": [
    {
     "data": {
      "text/plain": [
       "[1, 2, 3, 4, 5, 6]"
      ]
     },
     "execution_count": 16,
     "metadata": {},
     "output_type": "execute_result"
    }
   ],
   "source": [
    "# Question - 3\n",
    "\n",
    "l1 = [1,2,2,3,4,4,5,6,6]\n",
    "\n",
    "ans = []\n",
    "for i in l1:\n",
    "    if i not in ans:\n",
    "        ans.append(i)\n",
    "ans        "
   ]
  },
  {
   "cell_type": "code",
   "execution_count": 26,
   "metadata": {},
   "outputs": [
    {
     "data": {
      "text/plain": [
       "3"
      ]
     },
     "execution_count": 26,
     "metadata": {},
     "output_type": "execute_result"
    }
   ],
   "source": [
    "# Question - 4\n",
    "n = 123456\n",
    "sum = 0\n",
    "while n > 10:\n",
    "    sum = 0\n",
    "    while n>0:\n",
    "        sum += n%10\n",
    "        n = n//10\n",
    "    n = sum \n",
    "sum"
   ]
  },
  {
   "cell_type": "code",
   "execution_count": 43,
   "metadata": {},
   "outputs": [
    {
     "data": {
      "text/plain": [
       "[3, -2, 4, -1, 5, -4, 3, -3]"
      ]
     },
     "execution_count": 43,
     "metadata": {},
     "output_type": "execute_result"
    }
   ],
   "source": [
    "# Question - 5\n",
    "\n",
    "l1 = [-2,3,4,5,-1,3,-4,-3]\n",
    "temp = [0 for i in range(len(l1))]\n",
    "j,k = 0,1\n",
    "temp[1] = 20\n",
    "for i in l1:\n",
    "    if i>0:\n",
    "        temp[j] = i\n",
    "        j+=2\n",
    "    else:\n",
    "        temp[k] = i\n",
    "        k+=2\n",
    "temp            "
   ]
  }
 ],
 "metadata": {
  "kernelspec": {
   "display_name": "Python 3",
   "language": "python",
   "name": "python3"
  },
  "language_info": {
   "codemirror_mode": {
    "name": "ipython",
    "version": 3
   },
   "file_extension": ".py",
   "mimetype": "text/x-python",
   "name": "python",
   "nbconvert_exporter": "python",
   "pygments_lexer": "ipython3",
   "version": "3.13.0"
  }
 },
 "nbformat": 4,
 "nbformat_minor": 2
}
